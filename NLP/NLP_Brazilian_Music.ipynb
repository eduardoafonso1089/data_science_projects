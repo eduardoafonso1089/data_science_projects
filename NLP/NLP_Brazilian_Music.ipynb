{
  "nbformat": 4,
  "nbformat_minor": 0,
  "metadata": {
    "colab": {
      "provenance": []
    },
    "kernelspec": {
      "name": "python3",
      "display_name": "Python 3"
    },
    "language_info": {
      "name": "python"
    }
  },
  "cells": [
    {
      "cell_type": "markdown",
      "metadata": {
        "id": "fakDAzekac6Q"
      },
      "source": [
        "Download dos módulos liwc, nltk e submódulos stopwords e punkt.\n",
        "\n",
        "Import dos módulos baixados bem como string e Counter."
      ]
    },
    {
      "cell_type": "code",
      "metadata": {
        "colab": {
          "base_uri": "https://localhost:8080/"
        },
        "id": "d2p1YZTqNivQ",
        "outputId": "7b32f86c-2f7f-4b10-ffc4-f776770ae1a8"
      },
      "source": [
        "from google.colab import drive\n",
        "drive.mount('/content/drive')"
      ],
      "execution_count": null,
      "outputs": [
        {
          "output_type": "stream",
          "name": "stdout",
          "text": [
            "Drive already mounted at /content/drive; to attempt to forcibly remount, call drive.mount(\"/content/drive\", force_remount=True).\n"
          ]
        }
      ]
    },
    {
      "cell_type": "code",
      "metadata": {
        "colab": {
          "base_uri": "https://localhost:8080/"
        },
        "id": "G8wxfh9DOLbH",
        "outputId": "45f18962-3e62-44a5-b27a-e34253c04052"
      },
      "source": [
        "import sys\n",
        "!{sys.executable} -m pip install liwc nltk\n",
        "\n",
        "import liwc, nltk, string\n",
        "from collections import Counter\n",
        "import heapq\n",
        "import numpy as np\n",
        "\n",
        "from google.colab import drive\n",
        "drive.mount('/content/drive/', force_remount=True)\n",
        "\n",
        "nltk.download('stopwords')\n",
        "nltk.download('punkt')"
      ],
      "execution_count": null,
      "outputs": [
        {
          "output_type": "stream",
          "name": "stdout",
          "text": [
            "Collecting liwc\n",
            "  Downloading liwc-0.5.0-py2.py3-none-any.whl (5.1 kB)\n",
            "Requirement already satisfied: nltk in /usr/local/lib/python3.7/dist-packages (3.2.5)\n",
            "Requirement already satisfied: six in /usr/local/lib/python3.7/dist-packages (from nltk) (1.15.0)\n",
            "Installing collected packages: liwc\n",
            "Successfully installed liwc-0.5.0\n",
            "Mounted at /content/drive/\n",
            "[nltk_data] Downloading package stopwords to /root/nltk_data...\n",
            "[nltk_data]   Unzipping corpora/stopwords.zip.\n",
            "[nltk_data] Downloading package punkt to /root/nltk_data...\n",
            "[nltk_data]   Unzipping tokenizers/punkt.zip.\n"
          ]
        },
        {
          "output_type": "execute_result",
          "data": {
            "text/plain": [
              "True"
            ]
          },
          "metadata": {},
          "execution_count": 2
        }
      ]
    },
    {
      "cell_type": "markdown",
      "metadata": {
        "id": "er7A1xSef4ZB"
      },
      "source": [
        "Definindo valor das variáveis que serão usadas.\n",
        "\n",
        "Carregando as informações do dicionário LIWC PT.\n"
      ]
    },
    {
      "cell_type": "code",
      "metadata": {
        "id": "G8Nl15XeadSS"
      },
      "source": [
        "stopwords = nltk.corpus.stopwords.words('portuguese')\n",
        "punctuation = string.punctuation\n",
        "parse, category_names = liwc.load_token_parser('/content/drive/MyDrive/Mestrado/PLN/Trabalho/dicionario/liwc_pt.txt')"
      ],
      "execution_count": null,
      "outputs": []
    },
    {
      "cell_type": "markdown",
      "metadata": {
        "id": "Rs_x0N-FgSlW"
      },
      "source": [
        "Definido função de preprocessamento que é responsável por deixar todo o texto em caixa baixa, retirar as stopwords e as pontuações."
      ]
    },
    {
      "cell_type": "code",
      "metadata": {
        "id": "lW8CUPfUW4yO"
      },
      "source": [
        "def preprocess (text):\n",
        "  tokens = []\n",
        "  for token in nltk.word_tokenize(text, 'portuguese'):\n",
        "    token = token.lower()\n",
        "    if token not in stopwords and token not in punctuation:\n",
        "      tokens.append(token)\n",
        "  return tokens"
      ],
      "execution_count": null,
      "outputs": []
    },
    {
      "cell_type": "markdown",
      "metadata": {
        "id": "MTkZucUBiaQx"
      },
      "source": [
        "Letra das músicas da trilha sonora da peça teatral\n",
        "\n",
        "\n"
      ]
    },
    {
      "cell_type": "code",
      "metadata": {
        "id": "MHzzDsuBTbz_"
      },
      "source": [
        "lamentoMorro = open('/content/drive/MyDrive/Mestrado/PLN/Trabalho/LetrasCancoes/lamento do morro.txt','r').read()\n",
        "euMeuAmor = open('/content/drive/MyDrive/Mestrado/PLN/Trabalho/LetrasCancoes/Eu e o meu amor.txt','r').read()\n",
        "seTodosFossemIguaisAVoce = open('/content/drive/MyDrive/Mestrado/PLN/Trabalho/LetrasCancoes/Se todos fossem iguais a voce.txt','r').read()\n",
        "umNomedeMulher = open('/content/drive/MyDrive/Mestrado/PLN/Trabalho/LetrasCancoes/Um Nome de Mulher.txt','r').read()\n",
        "monologoDeOrfeu = open('/content/drive/MyDrive/Mestrado/PLN/Trabalho/LetrasCancoes/monologo de orfeu.txt','r').read()\n",
        "mulherSempreMulher = open('/content/drive/MyDrive/Mestrado/PLN/Trabalho/LetrasCancoes/mulher sempre mulher.txt','r').read()\n",
        "\n",
        "cancoes = [lamentoMorro, euMeuAmor, seTodosFossemIguaisAVoce, umNomedeMulher, monologoDeOrfeu, mulherSempreMulher];"
      ],
      "execution_count": null,
      "outputs": []
    },
    {
      "cell_type": "code",
      "metadata": {
        "colab": {
          "base_uri": "https://localhost:8080/"
        },
        "id": "8uHVlXTGiruk",
        "outputId": "0f355214-6214-47a3-d9ca-82c0cbfe0949"
      },
      "source": [
        "for cancao in cancoes:\n",
        "  cancaoPreProcessada = preprocess(cancao)\n",
        "  counts = Counter(category for token in cancaoPreProcessada for category in parse(token))\n",
        "  print(cancaoPreProcessada)\n",
        "  print(counts['posemo'])\n",
        "  print(counts['negemo'])\n"
      ],
      "execution_count": null,
      "outputs": [
        {
          "output_type": "stream",
          "name": "stdout",
          "text": [
            "['posso', 'esquecer', 'olhar', 'longe', 'olhos', 'ai', 'viver', 'esperar', 'pra', 'dizer', 'adeus', 'mulher', 'amada', 'destino', 'madrugada', 'sereno', 'olhos', 'correu']\n",
            "3\n",
            "2\n",
            "['amor', 'amor', '...', 'foi-se', 'embora', 'deixando', 'tanta', 'dor', 'tanta', 'tristeza', 'pobre', 'coração', 'jurou', 'deixar', 'foi-se', 'embora', 'nunca', 'voltar']\n",
            "2\n",
            "2\n",
            "['vai', 'vida', 'caminho', 'paz', 'amor', 'vida', 'linda', 'canção', 'amor', 'abre', 'braços', 'canta', 'última', 'esperança', 'esperança', 'divina', 'amar', 'paz', 'todos', 'iguais', 'maravilha', 'viver', 'canção', 'ar', 'mulher', 'cantar', 'cidade', 'cantar', 'sorrir', 'cantar', 'pedir', 'beleza', 'amar', 'sol', 'flor', 'luz', 'amar', 'mentir', 'sofrer', 'existiria', 'verdade', 'verdade', 'ninguém', 'vê', 'todos', 'mundo', 'iguais', \"'brigado\", 'obrigado']\n",
            "17\n",
            "3\n",
            "['nome', 'mulher', 'nome', 'nada', 'homem', 'preza', 'prantos', 'desfaz', 'faz', 'quer', 'perde', 'paz', 'exemplo', 'sabia', 'ai', 'amar', 'apareceu', 'lá', 'ainda', 'vou']\n",
            "4\n",
            "4\n",
            "['mulher', 'adorada', 'agora', 'estás', 'deixa', 'rompa', 'peito', 'soluços', 'enrustiste', 'vida', 'cada', 'hora', 'passa', 'porque', 'amar', 'hora', 'derrama', 'óleo', 'amor', 'mim', 'amada', 'sabes', 'coisa', 'cada', 'vez', 'sofrimento', 'vem', 'saudade', 'estar', 'perto', 'longe', 'estar', 'perto', 'perto', 'sei', 'agonia', 'viver', 'fraco', 'peito', 'extravasado', 'mel', 'correndo', 'incapacidade', 'sentir', 'orfeu', 'tudo', 'bem', 'capaz', 'confundir', 'espírito', 'homem', 'nada', 'disso', 'importância', 'chegas', 'charla', 'antiga', 'contentamento', 'harmonia', 'corpo', 'falas', 'coisas', 'dão', 'força', 'coragem', 'orgulho', 'rei', 'ah', 'eurídice', 'verso', 'silêncio', 'música', 'nunca', 'fujas', 'mim', 'ti', 'nada', 'coisa', 'razão', 'jogada', 'pedra', 'rolada', 'orfeu', 'menos', 'eurídice', 'coisa', 'incompreensível', 'existência', 'ti', 'olhar', 'relógio', 'ponteiro', 'minutos', 'és', 'hora', 'és', 'dá', 'sentido', 'direção', 'tempo', 'amiga', 'querida', 'mãe', 'pai', 'nada', 'beleza', 'vida', 'és', 'amada', 'milhões', 'amada', 'ah', 'criatura', 'poderia', 'pensar', 'orfeu', 'orfeu', 'cujo', 'violão', 'vida', 'cidade', 'cuja', 'fala', 'vento', 'flor', 'despetala', 'mulheres', 'orfeu', 'ficasse', 'assim', 'rendido', 'encantos', 'mulata', 'pele', 'escura', 'dente', 'branco', 'vai', 'caminho', 'vou', 'seguindo', 'pensamento', 'aqui', 'deixo', 'rente', 'voltares', 'lua', 'cheia', 'braços', 'fim', 'amigo', 'vai', 'vida', 'pássaro', 'contente', 'vai', 'vida', 'estarei', 'contigo']\n",
            "20\n",
            "6\n",
            "['mulher', 'ai', 'ai', 'mulher', 'sempre', 'mulher', 'dê', 'der', 'abraça', 'beija', 'xinga', 'bota', 'mandinga', 'faz', 'briga', 'pra', 'ver', 'quebrar', 'mulher', 'leal', 'bota', 'muita', 'banca', 'infelizmente', 'jornal', 'mulher', 'martírio', 'amor', 'deu', 'deu', 'sendo', 'assim', 'insista', 'desista', 'vá', 'fazendo', 'pista', 'chore', 'bocadinho', 'esqueça', 'mim', 'esqueça', 'mim']\n",
            "3\n",
            "6\n"
          ]
        }
      ]
    },
    {
      "cell_type": "markdown",
      "metadata": {
        "id": "_t5T-Rgq8uMO"
      },
      "source": [
        "Bag of Word utilizando o texto da peça teatral como corpus"
      ]
    },
    {
      "cell_type": "code",
      "metadata": {
        "colab": {
          "base_uri": "https://localhost:8080/",
          "height": 309
        },
        "id": "wfJpAqgF73L8",
        "outputId": "8c887ee1-0291-4dca-c856-a99129c611da"
      },
      "source": [
        "corpus = open('/content/drive/MyDrive/Mestrado/PLN/Trabalho/pecaTeatralEditado.txt','r').read()\n",
        "token_corpus = preprocess(corpus)\n",
        "#print(token_corpus)\n",
        "\n",
        "wordfreq = {}\n",
        "for sentence in token_corpus:\n",
        "    tokens = nltk.word_tokenize(sentence, 'portuguese')\n",
        "    for token in tokens:\n",
        "        if token not in wordfreq.keys():\n",
        "            wordfreq[token] = 1\n",
        "        else:\n",
        "            wordfreq[token] += 1\n",
        "\n",
        "print(wordfreq)\n",
        "\n",
        "most_freq = heapq.nlargest(200, wordfreq, key=wordfreq.get)\n",
        "print(most_freq)\n",
        "\n",
        "\n",
        "sentence_vectors = []\n",
        "for sentence in tokensLamentoMorro:\n",
        "    #sentence_tokens = nltk.word_tokenize(sentence, 'portuguese')\n",
        "    sent_vec = []\n",
        "    for token in most_freq:\n",
        "        if token in sentence:\n",
        "            #print(token)\n",
        "            sent_vec.append(1)\n",
        "        else:\n",
        "            sent_vec.append(0)\n",
        "    sentence_vectors.append(sent_vec)\n",
        "\n",
        "sentence_vectors = np.asarray(sentence_vectors)\n",
        "#print(sentence_vectors)"
      ],
      "execution_count": null,
      "outputs": [
        {
          "output_type": "stream",
          "name": "stdout",
          "text": [
            "{'primeiro': 1, 'ato': 3, 'corifeu': 1, 'demais': 4, 'perigos': 1, 'desta': 2, 'vida': 35, 'paixão': 11, 'principalmente': 1, 'lua': 12, 'surge': 2, 'repente': 6, 'deixa': 16, 'céu': 11, 'esquecida': 1, 'luar': 2, 'atua': 1, 'desvairado': 1, 'vem': 23, 'unir': 1, 'música': 22, 'qualquer': 5, 'aí': 9, 'então': 8, 'preciso': 6, 'ter': 5, 'cuidado': 2, 'porque': 8, 'deve': 2, 'andar': 2, 'perto': 8, 'mulher': 81, 'feita': 2, 'sentimento': 2, 'quer': 19, 'tão': 17, 'perfeita': 1, 'própria': 1, 'linda': 5, 'espalha': 1, 'sofrimento': 3, 'cheia': 5, 'pudor': 1, 'vive': 1, 'nua': 1, 'clio': 31, 'violão': 14, 'orfeu': 249, 'escuta': 5, 'apolo': 22, 'deixa-te': 1, 'estar': 3, 'acorda': 2, 'homem': 36, 'sangue': 8, 'tocando': 5, 'sei': 15, 'boa': 9, 'ninguém': 18, 'língua': 1, 'dizer': 7, 'coisas': 3, 'pegou': 1, 'menino': 9, 'ensinou': 3, 'idéia': 3, 'pagou': 1, 'dinheiro': 1, 'melhor': 2, 'instrumento': 1, \"t'esconjuro\": 1, 'vezes': 1, 'juro': 2, 'tocava': 2, 'roçar': 1, 'vento': 6, 'aprendeu': 2, 'agora': 6, 'toca': 4, 'mestre': 1, 'dantes': 3, 'ouve': 3, 'beleza': 4, 'agonia': 5, 'dá': 12, 'vontade': 3, 'chorar': 1, 'filho': 37, 'parece': 3, 'voz': 19, 'natureza': 2, 'estrela': 3, 'falasse': 2, 'assim': 24, 'dizia': 1, 'risada': 1, 'ofende': 1, 'deus': 22, 'tocar': 3, 'dessa': 2, 'maneira': 1, 'olha': 5, 'acordes': 1, 'quanta': 7, 'simplicidade': 1, 'sabes': 3, 'duma': 2, 'lembro': 3, 'pequenino': 1, 'ficava': 3, 'engatinhando': 1, 'terreiro': 1, 'nuzinho': 1, 'fez': 7, 'boca': 8, 'aberta': 1, 'resmungando': 1, 'coisa': 20, 'olhando': 1, 'estrelinhas': 2, 'acordavam': 1, 'tarde': 3, 'pensava': 1, 'conversa': 6, 'estrelas': 4, 'vai': 24, 'ver': 17, 'fica': 7, 'quieto': 1, 'peste.é': 1, 'pecado': 1, 'ficar': 2, 'falando': 5, 'toda': 8, 'eurídice': 153, 'nome': 13, 'pede': 1, 'diga': 3, 'amor': 48, 'despetalar': 1, 'flor': 6, 'és': 8, 'estás': 6, 'fazendo': 4, 'sozinho': 3, 'mãe': 27, 'ainda': 15, 'dormiu': 1, 'pergunta': 2, 'dormindo': 1, 'estaria': 1, 'perguntando': 1, 'onde': 20, 'cabeça': 3, 'pai': 4, 'prá': 2, 'dentro': 5, 'sair': 4, 'cama': 5, 'quente': 1, 'tempo': 7, 'frio': 2, 'têm': 2, 'juízo': 6, 'responde': 3, 'dar': 5, 'pouco': 7, 'perdeu': 2, 'sabe': 12, 'neste': 6, 'momento': 4, 'outro': 8, 'canta': 3, 'baixinho': 1, 'poema': 1, 'todo': 8, 'branco': 6, 'sobe': 2, 'morro': 28, 'encontrar': 2, 'estranhando': 1, 'tanto': 5, 'mete': 2, 'bom': 9, 'puxar': 1, 'assunto': 1, 'hoje': 7, 'sempre': 7, 'tocas': 1, 'entrou': 2, 'sono': 1, 'fala': 8, 'triste': 6, 'saber': 5, 'negra': 22, 'velha': 5, 'mãezinha': 3, 'pode': 8, 'uai': 2, 'podendo': 1, 'pois': 4, 'gente': 7, 'carne': 2, 'osso': 1, 'bota': 3, 'negro': 6, 'mundo': 20, 'sofre': 1, 'capina': 1, 'cansa': 1, 'espreme': 1, 'peito': 8, 'leite': 5, 'lava': 1, 'roupa': 1, 'comer': 2, 'sabugo': 1, 'lado': 4, 'sustenta': 1, 'malandro': 1, 'coisa-ruim': 1, 'contar': 3, 'muita': 7, 'garganta': 1, 'beber': 3, 'parar': 1, 'botequim': 1, 'cria': 1, 'pra': 35, 'ser': 8, 'criei': 1, 'absoluto': 1, 'tal': 3, 'querido': 3, 'respeitado': 1, 'homens': 1, 'mulheres': 19, 'ah': 30, 'bobagem': 3, 'quê': 8, 'ofender': 1, 'velho': 3, 'quanto': 3, 'músico': 5, 'tudo': 21, 'aprendi': 1, 'posição': 1, 'harmonia': 4, 'nada': 21, 'poesia': 3, 'chata': 1, 'tomara': 1, 'morrer': 5, 'maioral': 1, 'maiorais': 3, 'esquisita': 1, 'grande': 5, 'boba': 1, 'quero': 32, 'casar': 2, 'nego': 1, 'gosto': 7, 'sai': 10, 'nunca': 7, 'beijos': 1, 'primeira': 7, 'canção': 5, 'fiz': 2, 'sonho': 4, 'chegar': 1, 'palavras': 1, 'precisa': 2, 'chamar': 3, 'desde': 1, 'última': 3, 'ir': 4, 'amarrar': 1, 'pensa': 4, 'nasceu': 3, 'livre': 1, 'prisioneiro': 1, 'entende': 1, 'euridíce': 1, 'perfume': 1, 'outra': 8, 'contra': 2, 'gostar': 1, 'mulata': 6, 'bonita': 1, 'menina': 5, 'faz': 10, 'mimosa': 1, 'conheço': 1, 'bem': 19, 'aconselha': 1, 'vê': 7, 'vendo': 4, 'descalabro': 1, 'desgraça': 2, 'casamento': 4, 'três': 6, 'dois': 6, 'pinta': 1, 'viola': 3, 'dizendo': 3, 'antes': 7, 'importe': 1, 'servir': 1, 'pôr': 2, 'lixo': 1, 'toma': 4, 'tento': 2, 'provoca': 2, 'desunião': 1, 'união': 1, 'usado': 1, 'todas': 3, 'culpa': 3, 'disso': 3, 'feitiço': 2, 'entra': 1, 'nelas': 1, 'ciúme': 1, 'alheio': 1, 'atenta': 1, 'joga': 2, 'prato': 1, 'comeste': 1, 'casa': 11, 'rico': 1, 'sustento': 1, 'pobre': 7, 'amigação': 1, 'junta': 1, 'preza': 1, 'prantos': 1, 'desfaz': 1, 'perde': 1, 'paz': 19, 'exemplo': 1, 'sabia': 2, 'ai': 14, 'amar': 5, 'apareceu': 1, 'lá': 8, 'vou': 8, 'eh': 4, 'sambinha': 5, 'gostoso': 2, 'descer': 1, 'samba': 13, 'ó': 4, 'turbilhão': 1, 'mim': 18, 'lh': 1, 'pronta': 1, 'sossega': 3, 'calma': 8, 'adianta': 1, 'vamos': 12, 'devagar': 1, 'melodia': 2, 'frase': 1, 'falou': 4, 'coração': 13, 'disse': 9, 'chegou': 1, 'neguinho': 8, 'visão': 3, 'passou': 4, 'pensou': 1, 'suspira': 1, 'horas': 1, 'quarenta': 1, 'minutos': 2, 'olhar': 3, 'lindo': 1, 'bate': 1, 'vim': 4, 'correndo': 4, 'mata': 4, 'maior': 7, 'doido': 3, 'impossível': 1, 'amar-te': 2, 'afasta-se': 1, 'olhá-la': 1, 'alguém': 10, 'chora': 1, 'bobo': 2, 'lágrimas': 3, 'imenso': 1, 'puras': 1, 'sobre': 4, 'pele': 3, 'escura': 3, 'lembram': 1, 'noite': 13, 'embriagar': 1, 'neguinha': 3, 'saudade': 3, 'nasci': 1, 'nascer': 2, 'feixe': 1, 'ossos': 1, 'bocado': 1, 'pés': 3, 'duas': 2, 'mãos': 2, 'nascimento': 1, 'doçura': 1, 'mansa': 3, 'arrepia': 1, 'desgraçado': 2, 'matas': 1, 'tentação': 1, 'doce': 3, 'senão': 5, 'alucina': 1, 'aparecida': 1, 'favor': 5, 'segundinho': 1, 'daqui': 6, 'dias': 6, 'casamos': 1, 'combinou': 1, 'tratado': 1, 'cosi': 1, 'vestido': 1, 'noiva': 3, 'comprei': 1, 'véu': 1, 'fazer': 6, 'ti': 5, 'perdão': 2, 'possível': 1, 'pedir': 2, 'muda': 3, 'tom': 4, 'tá': 18, 'faço': 1, 'tripas': 1, 'morena': 2, 'peste': 1, 'demônio': 1, 'ruim': 3, 'adorada': 4, 'brincando': 1, 'bem-querer': 2, 'desculpa': 2, 'poxa': 1, 'revirada': 1, 'diz': 5, 'alma': 5, 'gato': 1, 'chegada': 1, 'mamãe': 2, 'volta': 2, 'novo': 6, 'mostrar': 1, 'voltar': 2, 'ocê': 4, 'manda': 6, 'cruz': 2, 'credo': 2, 'verdade': 4, 'fato': 1, 'volto': 2, 'instante': 4, 'alguma': 6, 'deu': 10, 'querida': 6, 'instantinho': 2, 'aragem': 2, 'filhinha': 1, 'luz': 4, 'impressão': 1, 'pesadelo': 1, 'morta': 8, 'longe': 3, 'enterrada': 1, 'cima': 2, 'namorada': 2, 'depressa': 4, 'leve': 2, 'aqui': 16, 'ficam': 1, 'restos': 1, 'esperar': 2, 'dás': 2, 'rompa': 1, 'soluços': 1, 'enrustiste': 1, 'cada': 10, 'hora': 6, 'passa': 3, 'derrama': 1, 'óleo': 1, 'amada': 6, 'vez': 4, 'viver': 5, 'fraco': 1, 'extravasado': 1, 'mel': 5, 'incapacidade': 1, 'sentir': 2, 'capaz': 2, 'confundir': 1, 'espírito': 2, 'importância': 1, 'chegas': 1, 'charla': 1, 'antiga': 1, 'contentamento': 1, 'corpo': 6, 'dizes': 2, 'dão': 1, 'força': 1, 'coragem': 1, 'orgulho': 1, 'rei': 15, 'verso': 1, 'silêncio': 4, 'fujas': 1, 'razão': 3, 'jogada': 1, 'pedra': 1, 'rolada': 1, 'menos': 1, 'incompreensível': 1, 'existência': 1, 'relógio': 1, 'ponteiro': 1, 'sentido': 1, 'direção': 1, 'amiga': 7, 'milhões': 1, 'criatura': 2, 'poderia': 1, 'pensar': 2, 'cujo': 1, 'cidade': 4, 'cuja': 1, 'despetala': 1, 'ficasse': 1, 'rendido': 1, 'encantos': 1, 'dente': 2, 'caminho': 7, 'seguindo': 1, 'pensamento': 2, 'deixo': 1, 'rente': 1, 'voltares': 1, 'braços': 8, 'fim': 3, 'amigo': 3, 'pássaro': 1, 'contente': 1, 'estarei': 1, 'contigo': 4, 'abre': 2, 'esperança': 4, 'divina': 2, 'todos': 19, 'iguais': 2, 'maravilha': 1, 'ar': 1, 'cantar': 5, 'sorrir': 1, 'sol': 2, 'mentir': 1, 'sofrer': 2, 'existiria': 1, 'mira': 46, 'adeus': 7, 'gostei': 1, 'recepção': 1, 'esquina': 1, 'logo': 3, 'encontrando': 1, 'algum': 3, 'lugar': 1, 'desprezando': 1, 'antigamente': 2, 'diferente': 1, 'chamado': 1, '``': 4, \"''\": 2, 'lembra': 4, 'desse': 4, 'cá': 2, 'escuto': 1, 'escutei': 1, 'fiada': 1, 'pro': 3, 'alto': 1, 'manca': 1, 'benzinho': 1, 'pessoa': 1, 'escutava': 1, 'direitinho': 1, 'some': 2, 'sacode': 1, 'lombo': 1, 'vira': 2, 'fada': 1, 'voa': 1, 'partes': 1, 'à-toa': 2, 'ano': 1, 'andava': 1, 'pegando': 1, 'esqueceu': 3, 'esqueci': 1, 'ora': 2, 'lembrar': 2, 'esquecido': 2, 'talvez': 2, 'precise': 1, 'refrescar': 1, 'memória': 1, 'suja': 2, 'descarada': 4, 'vagabunda': 2, 'sem-vergonha': 2, 'mulatinha': 1, 'pedreira': 1, 'metida': 1, 'branca': 1, 'pé': 2, 'ferida': 3, 'arrebento': 1, 'pancada': 1, 'carcomida': 1, 'arrebenta': 1, 'vai-te': 2, 'embora': 11, 'enquanto': 1, 'põe': 2, 'louco': 5, 'digo': 3, 'bancando': 1, \"abob'ra\": 1, 'ligo': 1, 'convidar': 1, 'madrinha': 1, 'calminha': 1, 'buscar': 5, 'calmante': 1, 'puseram': 1, 'levando': 1, 'desaparece': 1, 'querendo': 2, 'chateia': 1, 'mal-agradecido': 1, 'desprezar': 1, 'vendido': 1, 'porcaria': 1, 'cadela': 2, 'mato': 1, 'pegar': 2, 'dormir': 2, 'quietinha': 1, 'nesse': 6, 'dê': 1, 'der': 1, 'abraça': 1, 'beija': 1, 'xinga': 1, 'mandinga': 1, 'briga': 5, 'quebrar': 1, 'leal': 1, 'banca': 4, 'infelizmente': 1, 'jornal': 1, 'martírio': 2, 'sendo': 2, 'insista': 1, 'desista': 1, 'vá': 8, 'pista': 1, 'chore': 1, 'bocadinho': 1, 'esqueça': 1, 'aristeu': 26, 'chamo': 2, 'pastor': 1, 'abelhas': 4, 'bastante': 3, 'adoçar': 1, 'mágoa': 3, 'nasceste': 1, 'segundo': 8, 'criança': 2, 'destino': 2, 'cruel': 1, 'pôs-te': 1, 'fatal': 1, 'olhos': 6, 'sorriso': 2, 'indiferença': 1, 'inveja': 2, 'favo': 1, 'crepitando': 1, 'destilarem': 1, 'crime': 1, 'irmão': 1, 'vulto': 1, 'forma': 1, 'punhal': 1, 'belo': 1, 'praticaste': 1, 'crueldade': 1, 'seres': 2, 'amado': 1, 'vendedor': 1, 'deste': 2, 'colmeia': 1, 'dia': 5, 'abriu': 1, 'cera': 1, 'ninho': 1, 'serpente': 1, 'picar': 1, 'seio': 3, 'nove': 1, 'meses': 1, 'estará': 1, 'escorrendo': 1, 'ouvi': 3, 'mentira': 7, 'sufoca': 1, 'poder': 3, 'falar': 1, 'cala': 3, 'otário': 1, 'dama': 21, 'nasce': 7, 'breve': 1, 'meio': 2, 'morre': 5, 'nascido': 1, 'curta': 1, 'curto': 1, 'morte': 13, 'comprida': 1, 'sois': 5, 'vós': 2, 'senhora': 6, 'vivo': 1, 'escuridão': 2, 'chamava': 1, 'chamou': 8, 'veio': 4, 'mando': 2, 'comigo': 13, 'fundo': 3, 'reino': 1, 'adiante': 1, 'existe': 1, 'vivem': 1, 'castigo': 1, 'forte': 3, 'esperarei': 1, 'dançando': 1, 'dança': 3, 'aconteceu': 2, 'tado': 1, 'demorei': 1, 'queria': 2, 'viesse': 1, 'conselho': 1, 'espera': 6, 'fogo': 1, 'resguarda': 1, 'patati-patatá': 1, 'conversando': 1, 'penso': 1, 'provocou': 1, 'quase': 1, 'dou-lhe': 1, 'cara': 8, 'pregada': 1, 'brigando': 1, 'toa': 1, 'ciumada': 1, 'é': 1, '.': 1, 'perdoa': 1, 'perdoada': 1, 'maltrata': 2, 'malvada': 1, 'ô': 2, 'danada': 1, 'querer': 1, 'morresse': 1, 'ia': 1, 'aliviado': 1, 'perdesse': 1, 'iria': 1, 'inferno': 4, 'acaso': 1, 'cansar': 1, 'barracão': 1, 'preparado': 1, 'outros': 2, 'arrumado': 1, 'quartinho': 1, 'separado': 1, 'dura': 1, 'morreu': 12, 'vieste': 1, 'naquela': 1, 'viva': 8, 'morrerá': 1, 'braço': 1, 'daquela': 2, 'cala-te': 1, 'matar': 3, 'guardava': 1, 'entregou': 1, 'adorado': 1, 'fales': 1, 'dor': 3, 'gostosa': 1, 'leva': 5, 'euridice': 1, 'cena': 1, 'prosérpina': 5, 'vivando': 1, 'coro': 8, 'plutão': 27, 'bebida': 1, 'alegria': 3, 'orgia': 2, 'marcando': 2, 'compasso': 2, 'erguendo-se': 2, 'estatura': 1, 'aplaudindo': 1, 'vivamente': 1, 'agudo': 1, 'brincar': 1, 'labutar': 1, 'inteiro': 1, 'sério': 1, 'acaba': 3, 'cemitério': 2, 'trabalhando': 2, 'coveiro': 2, 'bêbada': 2, 'reinado': 2, 'folia': 2, 'último': 2, 'marca': 3, 'filhos': 1, 'bumbo': 3, 'ritmo': 1, 'tamborim': 3, 'cadência': 1, 'pandeiro': 3, 'marcação': 1, 'cuíca': 3, 'anima': 1, 'brincadeira': 1, 'agogô': 3, 'batucada': 2, 'diabo': 3, 'rídice': 2, 'ídice': 2, 'dice': 2, 'ice': 1, 'ce': 2, 'eee': 1, 'continua': 2, 'festa': 4, 'amanhã': 2, 'cinzas': 1, 'momo': 1, 'plano': 3, 'cérbero': 5, 'vê-se': 1, 'expressão': 1, 'estampada': 1, 'rosto': 1, 'busca': 1, 'loucura': 1, 'carnaval': 4, 'dirige-se': 1, 'clube': 2, 'processa': 1, 'infernalmente': 1, 'súbito': 1, 'barrado': 1, 'leão-de-chácara': 1, 'cão': 1, 'muitos': 2, 'muitas': 1, 'cabeças': 1, 'investe': 1, 'ameaçadoramente': 1, 'trucida': 1, 'pára': 4, 'perturba': 1, 'avança': 1, 'recua': 2, 'ante': 1, 'faça': 2, 'domina': 1, 'vir': 4, 'estirar-se': 1, 'apaziguado': 1, 'tristeza': 4, 'queres': 4, 'rosetar': 1, 'infernos': 1, 'ouvir': 1, 'voar': 1, 'mosca': 1, 'dirigindo-se': 1, 'gracinha': 2, 'acabou': 3, 'acabou-se': 1, 'ordem': 2, 'penetra': 2, 'ponham': 2, 'arigó': 1, 'conhecido': 1, 'desci': 1, 'busco': 1, 'bebe': 1, 'posso': 4, 'parou': 1, 'resta': 1, 'nenhuma': 1, 'tás': 5, 'acabar': 3, 'baile': 1, 'pilantra': 1, 'cheio': 1, 'estrago': 1, 'beijinho': 1, 'rua': 4, 'malícia': 1, 'conversar': 1, 'deitar': 1, 'cadê': 2, 'apito': 1, 'começa': 1, 'resolve': 1, 'ri': 2, 'histericamente': 1, 'dor-de-cotovelo': 2, 'comendo': 2, 'solta': 2, 'coberta': 1, 'brincava': 2, 'ciranda': 1, 'cirandinha': 1, 'cirandar': 1, 'bateu': 1, 'meia-noite': 1, 'milhão': 1, 'tanta': 5, 'cabia': 1, 'maninha': 4, 'praia': 2, 'passear': 2, 'celebrar': 1, 'bela': 1, 'marcha': 1, 'nupcial': 1, 'aonde': 2, 'anel': 1, 'vidro': 1, 'quebrou': 1, 'nessa': 4, 'bosque': 1, 'chama': 4, 'solidão': 1, 'escravos': 1, 'jó': 1, 'gostavam': 1, 'brigar': 1, 'pega': 2, 'zamberê': 1, 'guerreiro': 2, 'bis': 3, 'zip-zip-zip-zá': 1, 'escravo': 1, 'procura': 1, 'encontrei': 1, 'madrugada': 4, 'quantas': 1, 'madrugadas': 1, 'vi': 1, 'passarinhos': 1, 'vinham': 1, 'aceitar': 1, 'desafio': 1, 'raiando': 1, 'ergue': 1, 'aurora': 1, 'hum': 1, 'm': 3, 'terceiro': 3, 'segunda': 6, 'terceira': 5, 'puro': 2, 'quarta': 4, 'enlouqueceu': 1, 'quinta': 2, 'creio': 1, 'sexta': 2, 'criador': 2, 'apoio': 1, 'padeceu': 1, 'sob': 1, 'crucificado': 1, 'ficou': 2, 'abandonado': 1, 'desceu': 1, 'trevas': 2, 'grandes': 1, 'ressurgiu': 1, 'subiu': 1, 'vagando': 2, 'penada': 2, 'procurando': 1, 'maldita': 2, 'fizeste': 1, 'vizinhos': 1, 'nega': 1, 'vaca': 1, 'prostituta': 1, 'filha': 3, 'quietinho': 1, 'doideira': 1, 'endoideceu': 3, 'apagou': 1, 'horror': 1, 'virgem': 1, 'devia': 1, 'médico': 3, 'cadilac': 1, 'acho-te': 1, 'mandou': 2, 'defenda': 1, 'respeita': 1, 'alheia': 1, 'tava': 1, 'feliz': 1, 'balançando': 1, 'havia': 1, 'divino': 1, 'endoidece': 1, 'igual': 2, 'traz': 3, 'horrível': 1, 'chorando': 1, 'matem': 1, 'circunstantes': 2, 'estima': 1, 'façam': 1, 'tragédia': 1, 'agüenta': 1, 'necessário': 1, 'embaixo': 3, 'socorro': 1, 'ambulância': 5, 'posto': 1, 'praça': 1, 'dou': 1, 'pulo': 1, 'guie': 1, 'andará': 1, 'anda': 2, 'doidando': 1, 'topou': 1, 'impressionante': 1, 'ocês': 1, 'conhecem': 2, 'garoto': 2, 'medroso': 1, 'voltou': 1, 'impressionado': 1, 'reza': 1, 'nele': 1, 'passar': 2, 'ih': 1, 'vinha': 3, 'vindo': 2, 'engraxate': 1, 'sabem': 4, 'levado': 1, 'ribanceira': 1, 'escurecendo': 1, 'aparição': 1, 'esfrega': 1, 'abertos': 1, 'esperando': 3, 'segue': 1, 'escondeu': 1, 'pobrezinho': 1, 'pior': 2, 'penando': 1, 'ouviu': 1, 'som': 1, 'certo': 1, 'desandou': 1, 'saído': 1, 'mudando': 1, 'morros': 1, 'mau': 1, 'olhado': 1, 'vou-me': 1, 'fico': 2, 'viu': 1, 'doida': 2, 'varrida': 1, 'tendinha': 2, 'outras': 2, 'rameiras': 1, 'sorte': 2, 'estrupício': 1, 'enchendo': 1, 'bruxaria': 1, 'adentro': 1, 'causa': 5, 'esfaqueou': 1, 'maluco': 1, 'veja': 1, 'semana': 2, 'parecia': 1, 'prazer': 1, 'presente': 1, 'falta': 2, 'mudou': 1, 'devo': 1, 'valentia': 1, 'té': 1, 'conversou': 1, 'anjo': 3, 'digam': 1, 'valeu': 1, 'pena': 1, 'perdição': 1, 'faltava': 1, 'necessidade': 1, 'aparecia': 1, 'dinheirinho': 1, 'quizília': 1, 'mexia': 1, 'virava': 1, 'sapecava': 1, 'improviso': 1, 'santo': 1, 'tadinha': 1, 'tarada': 1, 'ouve-se': 1, 'distante': 1, 'sirene': 1, 'cessa': 1, 'seguida': 1, 'entram': 1, 'ruídos': 2, 'longínquos': 1, 'batuque': 1, 'batido': 1, 'caixas': 1, 'latas': 1, 'devem': 1, 'aproximar': 1, 'progressivamente': 1, 'durante': 1, 'cenas': 1, 'seguem': 1, 'acho': 1, 'aparecendo': 1, 'porta': 1, 'coitada': 1, 'trapo': 1, 'dorme': 1, 'choro': 1, 'olho': 1, 'aberto': 1, 'mão': 1, 'avisa': 1, 'alteração': 1, 'obrigado': 1, 'pronto': 2, 'trouxe': 1, 'maca': 2, 'caras': 2, 'folgados': 1, 'adivinha': 1, 'doutor': 1, 'fortes': 1, 'subam': 1, 'tragam': 1, 'espero': 1, 'caso': 1, 'urgente': 1, 'sopa': 1, 'deixem': 1, 'sossegada': 1, 'ajudem': 1, 'caridade': 2, 'levem': 3, 'junto': 1, 'vão': 2, 'conceição': 2, 'sujeito': 1, 'dizem': 1, 'sentinela': 1, 'desgraçada': 1, 'negrinha': 1, 'graça': 1, 'valia': 1, 'subitamente': 3, 'possessa': 1, 'plantar': 1, 'unhas': 1, 'arrancar': 1, 'dedos': 1, 'cobrir': 1, 'facada': 1, 'boazinha': 1, 'prometo': 1, 'cova': 1, 'cavar': 1, 'terra': 1, 'desenterrar': 1, 'rameira': 2, 'podre': 1, 'desmanchada': 1, 'bicho': 1, 'chega': 5, 'cliol': 1, 'defendendo': 1, 'vamo': 1, 'rapaz': 1, 'enche': 1, 'taca': 1, 'meninos': 1, 'foi-se': 2, 'deixando': 1, 'jurou': 1, 'deixar': 1, 'la-ra-ra-ra-la': 1, 'la-ra-ri-la-ra-ra-ra': 1, 'trocando': 1, 'pernas': 1, 'explode': 2, 'negócio': 1, 'corto': 1, 'cornos': 1, 'dum': 1, 'folga': 1, 'pensando': 1, 'hein': 2, 'manéra': 1, 'pessoal': 2, 'umas': 1, 'perua': 1, 'manjo': 1, 'saída': 1, 'desdenhosa': 1, 'tirei': 1, 'letra': 1, 'encher': 2, 'fosses': 1, 'largava': 1, 'largou': 1, 'pano': 1, 'cozinha': 1, 'histérica': 1, 'bacana': 6, 'quadris': 1, 'casca': 1, 'banana': 1, 'bueiro': 1, 'sola': 1, 'güenta': 2, 'rir': 1, 'esquecer': 1, 'sereno': 1, 'correu': 1, 'tou': 1, \"com'é\": 1, 'reclamando': 1, 'legal': 1, 'pazes': 1, 'certa': 3, 'grave': 1, 'única': 1, 'cedo': 1, 'dando': 1, 'mamar': 1, 'pras': 1, 'desce': 2, 'espaço': 1, 'fio': 1, 'ilusão': 1, 'serena': 1, 'traços': 1, 'abraçar': 1, 'baixa': 1, 'manso': 1, 'desponta': 1, 'desencanta': 1, 'gritam': 1, 'vêem': 1, 'cegos': 1, 'cego': 3, 'respiro': 1, 'aroma': 1, 'sinto': 2, 'descubro': 1, 'ouço': 1, 'ruído': 1, 'recebo': 1, 'passos': 1, 'noturnos': 1, 'desfolhando': 1, 'milagre': 1, 'ausência': 1, 'longo': 1, 'despertar': 1, 'treva': 1, 'deixa-me': 1, 'gozar': 1, 'anterior': 1, 'vinda': 1, 'segredo': 2, 'precede': 1, 'vens': 1, 'vejo': 2, 'alta': 1, 'tato': 1, 'seios': 1, 'pousas': 1, 'fiel': 1, 'asas': 1, 'brancas': 1, 'fremir': 1, 'copas': 1, 'sim': 1, 'ali': 1, 'magoou': 1, 'fiques': 1, 'falas': 1, 'banhada': 1, 'tavam': 1, \"vam'a\": 1, 'berçolina': 1, \"vam'bora\": 2, 'acredita': 1, 'negras': 1, 'cadelas': 1, 'final': 1, 'serás': 1, 'eternamente': 1, 'juntaram-se': 1, 'mataram': 1, 'generoso': 1, 'porém': 1, 'basta': 1, 'viveu': 1}\n",
            "['orfeu', 'eurídice', 'mulher', 'amor', 'mira', 'filho', 'homem', 'vida', 'pra', 'quero', 'clio', 'ah', 'morro', 'mãe', 'plutão', 'aristeu', 'assim', 'vai', 'vem', 'música', 'apolo', 'deus', 'negra', 'tudo', 'nada', 'dama', 'coisa', 'onde', 'mundo', 'quer', 'voz', 'mulheres', 'bem', 'paz', 'todos', 'ninguém', 'mim', 'tá', 'tão', 'ver', 'deixa', 'aqui', 'sei', 'ainda', 'rei', 'violão', 'ai', 'nome', 'samba', 'coração', 'noite', 'morte', 'comigo', 'lua', 'dá', 'sabe', 'vamos', 'morreu', 'paixão', 'céu', 'casa', 'embora', 'sai', 'faz', 'alguém', 'deu', 'cada', 'aí', 'boa', 'menino', 'bom', 'disse', 'então', 'porque', 'perto', 'sangue', 'boca', 'toda', 'és', 'outro', 'todo', 'fala', 'pode', 'peito', 'ser', 'quê', 'outra', 'lá', 'vou', 'calma', 'neguinho', 'morta', 'braços', 'vá', 'segundo', 'chamou', 'cara', 'viva', 'coro', 'dizer', 'quanta', 'fez', 'fica', 'tempo', 'pouco', 'hoje', 'sempre', 'gente', 'muita', 'gosto', 'nunca', 'primeira', 'vê', 'antes', 'pobre', 'maior', 'amiga', 'caminho', 'adeus', 'mentira', 'nasce', 'repente', 'preciso', 'vento', 'agora', 'conversa', 'flor', 'estás', 'juízo', 'neste', 'branco', 'triste', 'negro', 'mulata', 'três', 'dois', 'daqui', 'dias', 'fazer', 'novo', 'manda', 'alguma', 'querida', 'hora', 'amada', 'corpo', 'nesse', 'olhos', 'senhora', 'espera', 'segunda', 'bacana', 'qualquer', 'ter', 'linda', 'cheia', 'escuta', 'tocando', 'agonia', 'olha', 'falando', 'dentro', 'cama', 'dar', 'tanto', 'saber', 'velha', 'leite', 'músico', 'morrer', 'grande', 'canção', 'menina', 'amar', 'sambinha', 'senão', 'favor', 'ti', 'diz', 'alma', 'viver', 'mel', 'cantar', 'louco', 'buscar', 'briga', 'dia', 'morre', 'sois', 'leva', 'prosérpina', 'cérbero', 'tás', 'tanta', 'terceira', 'ambulância', 'causa', 'chega', 'demais', 'toca']\n"
          ]
        },
        {
          "output_type": "error",
          "ename": "NameError",
          "evalue": "ignored",
          "traceback": [
            "\u001b[0;31m---------------------------------------------------------------------------\u001b[0m",
            "\u001b[0;31mNameError\u001b[0m                                 Traceback (most recent call last)",
            "\u001b[0;32m<ipython-input-7-ab5adfeb6fb8>\u001b[0m in \u001b[0;36m<module>\u001b[0;34m()\u001b[0m\n\u001b[1;32m     19\u001b[0m \u001b[0;34m\u001b[0m\u001b[0m\n\u001b[1;32m     20\u001b[0m \u001b[0msentence_vectors\u001b[0m \u001b[0;34m=\u001b[0m \u001b[0;34m[\u001b[0m\u001b[0;34m]\u001b[0m\u001b[0;34m\u001b[0m\u001b[0;34m\u001b[0m\u001b[0m\n\u001b[0;32m---> 21\u001b[0;31m \u001b[0;32mfor\u001b[0m \u001b[0msentence\u001b[0m \u001b[0;32min\u001b[0m \u001b[0mtokensLamentoMorro\u001b[0m\u001b[0;34m:\u001b[0m\u001b[0;34m\u001b[0m\u001b[0;34m\u001b[0m\u001b[0m\n\u001b[0m\u001b[1;32m     22\u001b[0m     \u001b[0;31m#sentence_tokens = nltk.word_tokenize(sentence, 'portuguese')\u001b[0m\u001b[0;34m\u001b[0m\u001b[0;34m\u001b[0m\u001b[0;34m\u001b[0m\u001b[0m\n\u001b[1;32m     23\u001b[0m     \u001b[0msent_vec\u001b[0m \u001b[0;34m=\u001b[0m \u001b[0;34m[\u001b[0m\u001b[0;34m]\u001b[0m\u001b[0;34m\u001b[0m\u001b[0;34m\u001b[0m\u001b[0m\n",
            "\u001b[0;31mNameError\u001b[0m: name 'tokensLamentoMorro' is not defined"
          ]
        }
      ]
    },
    {
      "cell_type": "markdown",
      "metadata": {
        "id": "d0w86iC0howe"
      },
      "source": [
        "# Palavras mais frequentes do texto e das letras das canções"
      ]
    },
    {
      "cell_type": "code",
      "metadata": {
        "colab": {
          "base_uri": "https://localhost:8080/"
        },
        "id": "vPWekdsavnbk",
        "outputId": "b12deeb2-6deb-49e7-cfec-55fd9f5f44df"
      },
      "source": [
        "corpus = open('/content/drive/MyDrive/Mestrado/PLN/Trabalho/pecaTeatralEditado.txt','r').read()\n",
        "token_corpus = preprocess(corpus)\n",
        "print(len(token_corpus));\n",
        "\n",
        "freq=nltk.FreqDist(token_corpus)\n",
        "freq.most_common(570)\n",
        "\n",
        "#counts = Counter(category for token in token_corpus for category in parse(token))\n",
        "#print(counts['posemo'])\n",
        "#print(counts['negemo'])\n"
      ],
      "execution_count": null,
      "outputs": [
        {
          "output_type": "stream",
          "name": "stdout",
          "text": [
            "4332\n"
          ]
        },
        {
          "output_type": "execute_result",
          "data": {
            "text/plain": [
              "[('orfeu', 249),\n",
              " ('eurídice', 153),\n",
              " ('mulher', 81),\n",
              " ('amor', 48),\n",
              " ('mira', 46),\n",
              " ('filho', 37),\n",
              " ('homem', 36),\n",
              " ('vida', 35),\n",
              " ('pra', 35),\n",
              " ('quero', 32),\n",
              " ('clio', 31),\n",
              " ('ah', 30),\n",
              " ('morro', 28),\n",
              " ('mãe', 27),\n",
              " ('plutão', 27),\n",
              " ('aristeu', 26),\n",
              " ('assim', 24),\n",
              " ('vai', 24),\n",
              " ('vem', 23),\n",
              " ('música', 22),\n",
              " ('apolo', 22),\n",
              " ('deus', 22),\n",
              " ('negra', 22),\n",
              " ('tudo', 21),\n",
              " ('nada', 21),\n",
              " ('dama', 21),\n",
              " ('coisa', 20),\n",
              " ('onde', 20),\n",
              " ('mundo', 20),\n",
              " ('quer', 19),\n",
              " ('voz', 19),\n",
              " ('mulheres', 19),\n",
              " ('bem', 19),\n",
              " ('paz', 19),\n",
              " ('todos', 19),\n",
              " ('ninguém', 18),\n",
              " ('mim', 18),\n",
              " ('tá', 18),\n",
              " ('tão', 17),\n",
              " ('ver', 17),\n",
              " ('deixa', 16),\n",
              " ('aqui', 16),\n",
              " ('sei', 15),\n",
              " ('ainda', 15),\n",
              " ('rei', 15),\n",
              " ('violão', 14),\n",
              " ('ai', 14),\n",
              " ('nome', 13),\n",
              " ('samba', 13),\n",
              " ('coração', 13),\n",
              " ('noite', 13),\n",
              " ('morte', 13),\n",
              " ('comigo', 13),\n",
              " ('lua', 12),\n",
              " ('dá', 12),\n",
              " ('sabe', 12),\n",
              " ('vamos', 12),\n",
              " ('morreu', 12),\n",
              " ('paixão', 11),\n",
              " ('céu', 11),\n",
              " ('casa', 11),\n",
              " ('embora', 11),\n",
              " ('sai', 10),\n",
              " ('faz', 10),\n",
              " ('alguém', 10),\n",
              " ('deu', 10),\n",
              " ('cada', 10),\n",
              " ('aí', 9),\n",
              " ('boa', 9),\n",
              " ('menino', 9),\n",
              " ('bom', 9),\n",
              " ('disse', 9),\n",
              " ('então', 8),\n",
              " ('porque', 8),\n",
              " ('perto', 8),\n",
              " ('sangue', 8),\n",
              " ('boca', 8),\n",
              " ('toda', 8),\n",
              " ('és', 8),\n",
              " ('outro', 8),\n",
              " ('todo', 8),\n",
              " ('fala', 8),\n",
              " ('pode', 8),\n",
              " ('peito', 8),\n",
              " ('ser', 8),\n",
              " ('quê', 8),\n",
              " ('outra', 8),\n",
              " ('lá', 8),\n",
              " ('vou', 8),\n",
              " ('calma', 8),\n",
              " ('neguinho', 8),\n",
              " ('morta', 8),\n",
              " ('braços', 8),\n",
              " ('vá', 8),\n",
              " ('segundo', 8),\n",
              " ('chamou', 8),\n",
              " ('cara', 8),\n",
              " ('viva', 8),\n",
              " ('coro', 8),\n",
              " ('dizer', 7),\n",
              " ('quanta', 7),\n",
              " ('fez', 7),\n",
              " ('fica', 7),\n",
              " ('tempo', 7),\n",
              " ('pouco', 7),\n",
              " ('hoje', 7),\n",
              " ('sempre', 7),\n",
              " ('gente', 7),\n",
              " ('muita', 7),\n",
              " ('gosto', 7),\n",
              " ('nunca', 7),\n",
              " ('primeira', 7),\n",
              " ('vê', 7),\n",
              " ('antes', 7),\n",
              " ('pobre', 7),\n",
              " ('maior', 7),\n",
              " ('amiga', 7),\n",
              " ('caminho', 7),\n",
              " ('adeus', 7),\n",
              " ('mentira', 7),\n",
              " ('nasce', 7),\n",
              " ('repente', 6),\n",
              " ('preciso', 6),\n",
              " ('vento', 6),\n",
              " ('agora', 6),\n",
              " ('conversa', 6),\n",
              " ('flor', 6),\n",
              " ('estás', 6),\n",
              " ('juízo', 6),\n",
              " ('neste', 6),\n",
              " ('branco', 6),\n",
              " ('triste', 6),\n",
              " ('negro', 6),\n",
              " ('mulata', 6),\n",
              " ('três', 6),\n",
              " ('dois', 6),\n",
              " ('daqui', 6),\n",
              " ('dias', 6),\n",
              " ('fazer', 6),\n",
              " ('novo', 6),\n",
              " ('manda', 6),\n",
              " ('alguma', 6),\n",
              " ('querida', 6),\n",
              " ('hora', 6),\n",
              " ('amada', 6),\n",
              " ('corpo', 6),\n",
              " ('nesse', 6),\n",
              " ('olhos', 6),\n",
              " ('senhora', 6),\n",
              " ('espera', 6),\n",
              " ('segunda', 6),\n",
              " ('bacana', 6),\n",
              " ('qualquer', 5),\n",
              " ('ter', 5),\n",
              " ('linda', 5),\n",
              " ('cheia', 5),\n",
              " ('escuta', 5),\n",
              " ('tocando', 5),\n",
              " ('agonia', 5),\n",
              " ('olha', 5),\n",
              " ('falando', 5),\n",
              " ('dentro', 5),\n",
              " ('cama', 5),\n",
              " ('dar', 5),\n",
              " ('tanto', 5),\n",
              " ('saber', 5),\n",
              " ('velha', 5),\n",
              " ('leite', 5),\n",
              " ('músico', 5),\n",
              " ('morrer', 5),\n",
              " ('grande', 5),\n",
              " ('canção', 5),\n",
              " ('menina', 5),\n",
              " ('amar', 5),\n",
              " ('sambinha', 5),\n",
              " ('senão', 5),\n",
              " ('favor', 5),\n",
              " ('ti', 5),\n",
              " ('diz', 5),\n",
              " ('alma', 5),\n",
              " ('viver', 5),\n",
              " ('mel', 5),\n",
              " ('cantar', 5),\n",
              " ('louco', 5),\n",
              " ('buscar', 5),\n",
              " ('briga', 5),\n",
              " ('dia', 5),\n",
              " ('morre', 5),\n",
              " ('sois', 5),\n",
              " ('leva', 5),\n",
              " ('prosérpina', 5),\n",
              " ('cérbero', 5),\n",
              " ('tás', 5),\n",
              " ('tanta', 5),\n",
              " ('terceira', 5),\n",
              " ('ambulância', 5),\n",
              " ('causa', 5),\n",
              " ('chega', 5),\n",
              " ('demais', 4),\n",
              " ('toca', 4),\n",
              " ('beleza', 4),\n",
              " ('estrelas', 4),\n",
              " ('fazendo', 4),\n",
              " ('pai', 4),\n",
              " ('sair', 4),\n",
              " ('momento', 4),\n",
              " ('pois', 4),\n",
              " ('lado', 4),\n",
              " ('harmonia', 4),\n",
              " ('sonho', 4),\n",
              " ('ir', 4),\n",
              " ('pensa', 4),\n",
              " ('vendo', 4),\n",
              " ('casamento', 4),\n",
              " ('toma', 4),\n",
              " ('eh', 4),\n",
              " ('ó', 4),\n",
              " ('falou', 4),\n",
              " ('passou', 4),\n",
              " ('vim', 4),\n",
              " ('correndo', 4),\n",
              " ('mata', 4),\n",
              " ('sobre', 4),\n",
              " ('tom', 4),\n",
              " ('adorada', 4),\n",
              " ('ocê', 4),\n",
              " ('verdade', 4),\n",
              " ('instante', 4),\n",
              " ('luz', 4),\n",
              " ('depressa', 4),\n",
              " ('vez', 4),\n",
              " ('silêncio', 4),\n",
              " ('cidade', 4),\n",
              " ('contigo', 4),\n",
              " ('esperança', 4),\n",
              " ('``', 4),\n",
              " ('lembra', 4),\n",
              " ('desse', 4),\n",
              " ('descarada', 4),\n",
              " ('banca', 4),\n",
              " ('abelhas', 4),\n",
              " ('veio', 4),\n",
              " ('inferno', 4),\n",
              " ('festa', 4),\n",
              " ('carnaval', 4),\n",
              " ('pára', 4),\n",
              " ('vir', 4),\n",
              " ('tristeza', 4),\n",
              " ('queres', 4),\n",
              " ('posso', 4),\n",
              " ('rua', 4),\n",
              " ('maninha', 4),\n",
              " ('nessa', 4),\n",
              " ('chama', 4),\n",
              " ('madrugada', 4),\n",
              " ('quarta', 4),\n",
              " ('sabem', 4),\n",
              " ('ato', 3),\n",
              " ('sofrimento', 3),\n",
              " ('estar', 3),\n",
              " ('coisas', 3),\n",
              " ('ensinou', 3),\n",
              " ('idéia', 3),\n",
              " ('dantes', 3),\n",
              " ('ouve', 3),\n",
              " ('vontade', 3),\n",
              " ('parece', 3),\n",
              " ('estrela', 3),\n",
              " ('tocar', 3),\n",
              " ('sabes', 3),\n",
              " ('lembro', 3),\n",
              " ('ficava', 3),\n",
              " ('tarde', 3),\n",
              " ('diga', 3),\n",
              " ('sozinho', 3),\n",
              " ('cabeça', 3),\n",
              " ('responde', 3),\n",
              " ('canta', 3),\n",
              " ('mãezinha', 3),\n",
              " ('bota', 3),\n",
              " ('contar', 3),\n",
              " ('beber', 3),\n",
              " ('tal', 3),\n",
              " ('querido', 3),\n",
              " ('bobagem', 3),\n",
              " ('velho', 3),\n",
              " ('quanto', 3),\n",
              " ('poesia', 3),\n",
              " ('maiorais', 3),\n",
              " ('chamar', 3),\n",
              " ('última', 3),\n",
              " ('nasceu', 3),\n",
              " ('viola', 3),\n",
              " ('dizendo', 3),\n",
              " ('todas', 3),\n",
              " ('culpa', 3),\n",
              " ('disso', 3),\n",
              " ('sossega', 3),\n",
              " ('visão', 3),\n",
              " ('olhar', 3),\n",
              " ('doido', 3),\n",
              " ('lágrimas', 3),\n",
              " ('pele', 3),\n",
              " ('escura', 3),\n",
              " ('neguinha', 3),\n",
              " ('saudade', 3),\n",
              " ('pés', 3),\n",
              " ('mansa', 3),\n",
              " ('doce', 3),\n",
              " ('noiva', 3),\n",
              " ('muda', 3),\n",
              " ('ruim', 3),\n",
              " ('longe', 3),\n",
              " ('passa', 3),\n",
              " ('razão', 3),\n",
              " ('fim', 3),\n",
              " ('amigo', 3),\n",
              " ('logo', 3),\n",
              " ('algum', 3),\n",
              " ('pro', 3),\n",
              " ('esqueceu', 3),\n",
              " ('ferida', 3),\n",
              " ('digo', 3),\n",
              " ('bastante', 3),\n",
              " ('mágoa', 3),\n",
              " ('seio', 3),\n",
              " ('ouvi', 3),\n",
              " ('poder', 3),\n",
              " ('cala', 3),\n",
              " ('fundo', 3),\n",
              " ('forte', 3),\n",
              " ('dança', 3),\n",
              " ('matar', 3),\n",
              " ('dor', 3),\n",
              " ('alegria', 3),\n",
              " ('acaba', 3),\n",
              " ('marca', 3),\n",
              " ('bumbo', 3),\n",
              " ('tamborim', 3),\n",
              " ('pandeiro', 3),\n",
              " ('cuíca', 3),\n",
              " ('agogô', 3),\n",
              " ('diabo', 3),\n",
              " ('plano', 3),\n",
              " ('acabou', 3),\n",
              " ('acabar', 3),\n",
              " ('bis', 3),\n",
              " ('m', 3),\n",
              " ('terceiro', 3),\n",
              " ('filha', 3),\n",
              " ('endoideceu', 3),\n",
              " ('médico', 3),\n",
              " ('traz', 3),\n",
              " ('embaixo', 3),\n",
              " ('vinha', 3),\n",
              " ('esperando', 3),\n",
              " ('anjo', 3),\n",
              " ('levem', 3),\n",
              " ('subitamente', 3),\n",
              " ('certa', 3),\n",
              " ('cego', 3),\n",
              " ('desta', 2),\n",
              " ('surge', 2),\n",
              " ('luar', 2),\n",
              " ('cuidado', 2),\n",
              " ('deve', 2),\n",
              " ('andar', 2),\n",
              " ('feita', 2),\n",
              " ('sentimento', 2),\n",
              " ('acorda', 2),\n",
              " ('melhor', 2),\n",
              " ('juro', 2),\n",
              " ('tocava', 2),\n",
              " ('aprendeu', 2),\n",
              " ('natureza', 2),\n",
              " ('falasse', 2),\n",
              " ('dessa', 2),\n",
              " ('duma', 2),\n",
              " ('estrelinhas', 2),\n",
              " ('ficar', 2),\n",
              " ('pergunta', 2),\n",
              " ('prá', 2),\n",
              " ('frio', 2),\n",
              " ('têm', 2),\n",
              " ('perdeu', 2),\n",
              " ('sobe', 2),\n",
              " ('encontrar', 2),\n",
              " ('mete', 2),\n",
              " ('entrou', 2),\n",
              " ('uai', 2),\n",
              " ('carne', 2),\n",
              " ('comer', 2),\n",
              " ('casar', 2),\n",
              " ('fiz', 2),\n",
              " ('precisa', 2),\n",
              " ('contra', 2),\n",
              " ('desgraça', 2),\n",
              " ('pôr', 2),\n",
              " ('tento', 2),\n",
              " ('provoca', 2),\n",
              " ('feitiço', 2),\n",
              " ('joga', 2),\n",
              " ('sabia', 2),\n",
              " ('gostoso', 2),\n",
              " ('melodia', 2),\n",
              " ('minutos', 2),\n",
              " ('amar-te', 2),\n",
              " ('bobo', 2),\n",
              " ('nascer', 2),\n",
              " ('duas', 2),\n",
              " ('mãos', 2),\n",
              " ('desgraçado', 2),\n",
              " ('perdão', 2),\n",
              " ('pedir', 2),\n",
              " ('morena', 2),\n",
              " ('bem-querer', 2),\n",
              " ('desculpa', 2),\n",
              " ('mamãe', 2),\n",
              " ('volta', 2),\n",
              " ('voltar', 2),\n",
              " ('cruz', 2),\n",
              " ('credo', 2),\n",
              " ('volto', 2),\n",
              " ('instantinho', 2),\n",
              " ('aragem', 2),\n",
              " ('cima', 2),\n",
              " ('namorada', 2),\n",
              " ('leve', 2),\n",
              " ('esperar', 2),\n",
              " ('dás', 2),\n",
              " ('sentir', 2),\n",
              " ('capaz', 2),\n",
              " ('espírito', 2),\n",
              " ('dizes', 2),\n",
              " ('criatura', 2),\n",
              " ('pensar', 2),\n",
              " ('dente', 2),\n",
              " ('pensamento', 2),\n",
              " ('abre', 2),\n",
              " ('divina', 2),\n",
              " ('iguais', 2),\n",
              " ('sol', 2),\n",
              " ('sofrer', 2),\n",
              " ('antigamente', 2),\n",
              " (\"''\", 2),\n",
              " ('cá', 2),\n",
              " ('some', 2),\n",
              " ('vira', 2),\n",
              " ('à-toa', 2),\n",
              " ('ora', 2),\n",
              " ('lembrar', 2),\n",
              " ('esquecido', 2),\n",
              " ('talvez', 2),\n",
              " ('suja', 2),\n",
              " ('vagabunda', 2),\n",
              " ('sem-vergonha', 2),\n",
              " ('pé', 2),\n",
              " ('vai-te', 2),\n",
              " ('põe', 2),\n",
              " ('querendo', 2),\n",
              " ('cadela', 2),\n",
              " ('pegar', 2),\n",
              " ('dormir', 2),\n",
              " ('martírio', 2),\n",
              " ('sendo', 2),\n",
              " ('chamo', 2),\n",
              " ('criança', 2),\n",
              " ('destino', 2),\n",
              " ('sorriso', 2),\n",
              " ('inveja', 2),\n",
              " ('seres', 2),\n",
              " ('deste', 2),\n",
              " ('meio', 2),\n",
              " ('vós', 2),\n",
              " ('escuridão', 2),\n",
              " ('mando', 2),\n",
              " ('aconteceu', 2),\n",
              " ('queria', 2),\n",
              " ('maltrata', 2),\n",
              " ('ô', 2),\n",
              " ('outros', 2),\n",
              " ('daquela', 2),\n",
              " ('orgia', 2),\n",
              " ('marcando', 2),\n",
              " ('compasso', 2),\n",
              " ('erguendo-se', 2),\n",
              " ('cemitério', 2),\n",
              " ('trabalhando', 2),\n",
              " ('coveiro', 2),\n",
              " ('bêbada', 2),\n",
              " ('reinado', 2),\n",
              " ('folia', 2),\n",
              " ('último', 2),\n",
              " ('batucada', 2),\n",
              " ('rídice', 2),\n",
              " ('ídice', 2),\n",
              " ('dice', 2),\n",
              " ('ce', 2),\n",
              " ('continua', 2),\n",
              " ('amanhã', 2),\n",
              " ('clube', 2),\n",
              " ('muitos', 2),\n",
              " ('recua', 2),\n",
              " ('faça', 2),\n",
              " ('gracinha', 2),\n",
              " ('ordem', 2),\n",
              " ('penetra', 2),\n",
              " ('ponham', 2),\n",
              " ('cadê', 2),\n",
              " ('ri', 2),\n",
              " ('dor-de-cotovelo', 2),\n",
              " ('comendo', 2),\n",
              " ('solta', 2),\n",
              " ('brincava', 2),\n",
              " ('praia', 2),\n",
              " ('passear', 2),\n",
              " ('aonde', 2),\n",
              " ('pega', 2),\n",
              " ('guerreiro', 2),\n",
              " ('puro', 2),\n",
              " ('quinta', 2),\n",
              " ('sexta', 2),\n",
              " ('criador', 2),\n",
              " ('ficou', 2),\n",
              " ('trevas', 2),\n",
              " ('vagando', 2),\n",
              " ('penada', 2),\n",
              " ('maldita', 2),\n",
              " ('mandou', 2),\n",
              " ('igual', 2),\n",
              " ('circunstantes', 2),\n",
              " ('anda', 2),\n",
              " ('conhecem', 2),\n",
              " ('garoto', 2),\n",
              " ('passar', 2),\n",
              " ('vindo', 2),\n",
              " ('pior', 2),\n",
              " ('fico', 2),\n",
              " ('doida', 2),\n",
              " ('tendinha', 2),\n",
              " ('outras', 2),\n",
              " ('sorte', 2),\n",
              " ('semana', 2),\n",
              " ('falta', 2),\n",
              " ('ruídos', 2),\n",
              " ('pronto', 2),\n",
              " ('maca', 2),\n",
              " ('caras', 2),\n",
              " ('caridade', 2),\n",
              " ('vão', 2),\n",
              " ('conceição', 2),\n",
              " ('rameira', 2),\n",
              " ('foi-se', 2),\n",
              " ('explode', 2),\n",
              " ('hein', 2),\n",
              " ('pessoal', 2),\n",
              " ('encher', 2),\n",
              " ('güenta', 2),\n",
              " ('desce', 2),\n",
              " ('sinto', 2),\n",
              " ('segredo', 2),\n",
              " ('vejo', 2),\n",
              " (\"vam'bora\", 2),\n",
              " ('primeiro', 1),\n",
              " ('corifeu', 1),\n",
              " ('perigos', 1),\n",
              " ('principalmente', 1),\n",
              " ('esquecida', 1),\n",
              " ('atua', 1),\n",
              " ('desvairado', 1)]"
            ]
          },
          "metadata": {},
          "execution_count": 31
        }
      ]
    },
    {
      "cell_type": "code",
      "metadata": {
        "colab": {
          "base_uri": "https://localhost:8080/"
        },
        "id": "yq761idezY2T",
        "outputId": "629f1e38-e1b5-483c-b968-8dd6d5f1235d"
      },
      "source": [
        "cancaoPreProcessada = preprocess(cancao)\n",
        "freq=nltk.FreqDist(cancaoPreProcessada)\n",
        "freq.most_common(20)"
      ],
      "execution_count": null,
      "outputs": [
        {
          "output_type": "execute_result",
          "data": {
            "text/plain": [
              "[('mulher', 5),\n",
              " ('ai', 2),\n",
              " ('bota', 2),\n",
              " ('deu', 2),\n",
              " ('esqueça', 2),\n",
              " ('mim', 2),\n",
              " ('sempre', 1),\n",
              " ('dê', 1),\n",
              " ('der', 1),\n",
              " ('abraça', 1),\n",
              " ('beija', 1),\n",
              " ('xinga', 1),\n",
              " ('mandinga', 1),\n",
              " ('faz', 1),\n",
              " ('briga', 1),\n",
              " ('pra', 1),\n",
              " ('ver', 1),\n",
              " ('quebrar', 1),\n",
              " ('leal', 1),\n",
              " ('muita', 1)]"
            ]
          },
          "metadata": {},
          "execution_count": 10
        }
      ]
    },
    {
      "cell_type": "markdown",
      "metadata": {
        "id": "y9wxJKLer9-0"
      },
      "source": [
        "Análise de polaridade das falas de Clio (mãe de Orfeu), Apolo (pai de Orfeu), Eurídice e Orfeu.\n"
      ]
    },
    {
      "cell_type": "code",
      "metadata": {
        "colab": {
          "base_uri": "https://localhost:8080/"
        },
        "id": "_mcbNn3xrfmr",
        "outputId": "a9089e06-30a6-4ded-d6de-99a675d84ffc"
      },
      "source": [
        "falas_Clio = open('/content/drive/MyDrive/Mestrado/PLN/Trabalho/FalasSeparadas/FalasClio.txt','r').read()\n",
        "falas_Apolo = open('/content/drive/MyDrive/Mestrado/PLN/Trabalho/FalasSeparadas/FalasApolo.txt').read()\n",
        "falas_Euridice = open('/content/drive/MyDrive/Mestrado/PLN/Trabalho/FalasSeparadas/FalasEuridice.txt').read()\n",
        "falas_Orfeu = open('/content/drive/MyDrive/Mestrado/PLN/Trabalho/FalasSeparadas/FalasOrfeu.txt').read()\n",
        "\n",
        "falas_personagens = [falas_Clio, falas_Apolo, falas_Euridice, falas_Orfeu]\n",
        "\n",
        "for falas in falas_personagens:\n",
        "  falasPreProcessada = preprocess(falas)\n",
        "  counts = Counter(category for token in falasPreProcessada for category in parse(token))\n",
        "  #print(falasPreProcessada)\n",
        "  print(counts['posemo'])\n",
        "  print(counts['negemo'])\n"
      ],
      "execution_count": null,
      "outputs": [
        {
          "output_type": "stream",
          "name": "stdout",
          "text": [
            "54\n",
            "38\n",
            "16\n",
            "3\n",
            "44\n",
            "20\n",
            "179\n",
            "77\n"
          ]
        }
      ]
    },
    {
      "cell_type": "markdown",
      "metadata": {
        "id": "EJBObK645XFJ"
      },
      "source": [
        "Palavras mais frequentes de Clio"
      ]
    },
    {
      "cell_type": "code",
      "metadata": {
        "colab": {
          "base_uri": "https://localhost:8080/"
        },
        "id": "J9RPLym8txSg",
        "outputId": "bc334ede-68bd-4625-b761-a796c1c5542a"
      },
      "source": [
        "falas_ClioPreProcessada = preprocess(falas_Clio)\n",
        "freq=nltk.FreqDist(falas_ClioPreProcessada)\n",
        "freq.most_common(20)"
      ],
      "execution_count": null,
      "outputs": [
        {
          "output_type": "execute_result",
          "data": {
            "text/plain": [
              "[('filho', 24),\n",
              " ('orfeu', 22),\n",
              " ('pra', 13),\n",
              " ('mãe', 11),\n",
              " ('deus', 11),\n",
              " ('quero', 11),\n",
              " ('ah', 7),\n",
              " ('casa', 7),\n",
              " ('sei', 6),\n",
              " ('eurídice', 5),\n",
              " ('mulher', 5),\n",
              " ('mentira', 5),\n",
              " ('sangue', 4),\n",
              " ('apolo', 4),\n",
              " ('onde', 4),\n",
              " ('quer', 4),\n",
              " ('sabe', 4),\n",
              " ('morro', 4),\n",
              " ('tocando', 3),\n",
              " ('conversa', 3)]"
            ]
          },
          "metadata": {},
          "execution_count": 12
        }
      ]
    },
    {
      "cell_type": "code",
      "metadata": {
        "colab": {
          "base_uri": "https://localhost:8080/"
        },
        "id": "NFHHkOr45ceu",
        "outputId": "bd30a8bd-8ec0-4dd3-e3a8-b8895b66fab9"
      },
      "source": [
        "falas_ApoloPreProcessada = preprocess(falas_Apolo)\n",
        "freq=nltk.FreqDist(falas_ApoloPreProcessada)\n",
        "freq.most_common(20)"
      ],
      "execution_count": null,
      "outputs": [
        {
          "output_type": "execute_result",
          "data": {
            "text/plain": [
              "[('coisa', 4),\n",
              " ('mulher', 3),\n",
              " ('menino', 3),\n",
              " ('deus', 3),\n",
              " ('filha', 3),\n",
              " ('aí', 3),\n",
              " ('orfeu', 3),\n",
              " ('sei', 2),\n",
              " ('filho', 2),\n",
              " ('parece', 2),\n",
              " ('assim', 2),\n",
              " ('ficava', 2),\n",
              " ('conversa', 2),\n",
              " ('favor', 2),\n",
              " ('qualquer', 2),\n",
              " ('tá', 2),\n",
              " ('chega', 2),\n",
              " ('então', 1),\n",
              " ('boa', 1),\n",
              " ('ninguém', 1)]"
            ]
          },
          "metadata": {},
          "execution_count": 13
        }
      ]
    },
    {
      "cell_type": "code",
      "metadata": {
        "colab": {
          "base_uri": "https://localhost:8080/"
        },
        "id": "zKelugIK5mwT",
        "outputId": "c2dbbb7c-27b4-417e-d498-ba44ff869dac"
      },
      "source": [
        "falas_EuridicePreProcessada = preprocess(falas_Euridice)\n",
        "freq=nltk.FreqDist(falas_EuridicePreProcessada)\n",
        "freq.most_common(20)"
      ],
      "execution_count": null,
      "outputs": [
        {
          "output_type": "execute_result",
          "data": {
            "text/plain": [
              "[('amor', 13),\n",
              " ('neguinho', 8),\n",
              " ('orfeu', 7),\n",
              " ('fala', 5),\n",
              " ('ainda', 5),\n",
              " ('mim', 4),\n",
              " ('noite', 4),\n",
              " ('assim', 4),\n",
              " ('eurídice', 3),\n",
              " ('ah', 3),\n",
              " ('coisa', 3),\n",
              " ('lágrimas', 3),\n",
              " ('ver', 3),\n",
              " ('vai', 3),\n",
              " ('quer', 3),\n",
              " ('preciso', 3),\n",
              " ('morta', 3),\n",
              " ('boa', 3),\n",
              " ('adeus', 3),\n",
              " ('coração', 2)]"
            ]
          },
          "metadata": {},
          "execution_count": 14
        }
      ]
    },
    {
      "cell_type": "code",
      "metadata": {
        "colab": {
          "base_uri": "https://localhost:8080/"
        },
        "id": "051cMQG15uha",
        "outputId": "4c1f4bcd-a9a0-4b31-fcb0-851e34f1ebc6"
      },
      "source": [
        "falas_OrfeuPreProcessada = preprocess(falas_Orfeu)\n",
        "freq=nltk.FreqDist(falas_OrfeuPreProcessada)\n",
        "freq.most_common(20)\n"
      ],
      "execution_count": null,
      "outputs": [
        {
          "output_type": "execute_result",
          "data": {
            "text/plain": [
              "[('eurídice', 68),\n",
              " ('orfeu', 40),\n",
              " ('amor', 28),\n",
              " ('mulher', 26),\n",
              " ('vida', 17),\n",
              " ('vem', 16),\n",
              " ('mãe', 15),\n",
              " ('morro', 15),\n",
              " ('nada', 15),\n",
              " ('quero', 14),\n",
              " ('música', 11),\n",
              " ('vai', 11),\n",
              " ('nome', 10),\n",
              " ('mundo', 10),\n",
              " ('comigo', 9),\n",
              " ('onde', 8),\n",
              " ('ah', 8),\n",
              " ('tudo', 8),\n",
              " ('ver', 8),\n",
              " ('mim', 8)]"
            ]
          },
          "metadata": {},
          "execution_count": 19
        }
      ]
    },
    {
      "cell_type": "markdown",
      "metadata": {
        "id": "TMAJLiHT5_8Y"
      },
      "source": [
        "Análise de polaridade dos Atos"
      ]
    },
    {
      "cell_type": "code",
      "metadata": {
        "colab": {
          "base_uri": "https://localhost:8080/"
        },
        "id": "5hsqkCzF6B1f",
        "outputId": "dac48ff6-eb55-43ec-d26d-007c23fd3d13"
      },
      "source": [
        "primeiroAto = open('/content/drive/MyDrive/Mestrado/PLN/Trabalho/Atos/PrimeiroAto.txt','r').read()\n",
        "segundoAto = open('/content/drive/MyDrive/Mestrado/PLN/Trabalho/Atos/SegundoAto.txt').read()\n",
        "terceiroAto = open('/content/drive/MyDrive/Mestrado/PLN/Trabalho/Atos/TerceiroAto.txt').read()\n",
        "\n",
        "atos = [primeiroAto, segundoAto, terceiroAto]\n",
        "\n",
        "for ato in atos:\n",
        "  atoPreProcessada = preprocess(ato)\n",
        "  counts = Counter(category for token in atoPreProcessada for category in parse(token))\n",
        "  #print(falasPreProcessada)\n",
        "  print(counts['posemo'])\n",
        "  print(counts['negemo'])"
      ],
      "execution_count": null,
      "outputs": [
        {
          "output_type": "stream",
          "name": "stdout",
          "text": [
            "238\n",
            "135\n",
            "71\n",
            "43\n",
            "127\n",
            "86\n"
          ]
        }
      ]
    }
  ]
}