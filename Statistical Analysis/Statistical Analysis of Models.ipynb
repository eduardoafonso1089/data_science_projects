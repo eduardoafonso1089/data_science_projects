{
  "cells": [
    {
      "cell_type": "markdown",
      "metadata": {
        "id": "Omv6GQqrXEmw"
      },
      "source": [
        "Load modules"
      ]
    },
    {
      "cell_type": "code",
      "execution_count": null,
      "metadata": {
        "id": "lguZBE22XEGn"
      },
      "outputs": [],
      "source": [
        "from sklearn.ensemble import RandomForestClassifier\n",
        "from sklearn.neighbors import KNeighborsTransformer\n",
        "from sklearn.neighbors import RadiusNeighborsTransformer\n",
        "from sklearn.neighbors import NearestNeighbors\n",
        "from sklearn.neighbors import KNeighborsClassifier\n",
        "import networkx as nx\n",
        "import matplotlib.pyplot as plt\n",
        "import numpy as np\n",
        "from keras.datasets import mnist\n",
        "from keras.datasets import fashion_mnist\n",
        "from sklearn.model_selection import cross_val_score\n",
        "from sklearn.metrics import accuracy_score\n",
        "from sklearn.svm import SVC\n",
        "from sklearn.naive_bayes import GaussianNB\n",
        "#pip install --user xgboost\n",
        "import xgboost as xgb"
      ]
    },
    {
      "cell_type": "markdown",
      "metadata": {
        "id": "VcA8lLOPD8iH"
      },
      "source": [
        "NOT USING T-Student test"
      ]
    },
    {
      "cell_type": "markdown",
      "metadata": {
        "id": "MmQxxG6-m96q"
      },
      "source": [
        "Referência\n",
        "https://towardsdatascience.com/paired-t-test-to-evaluate-machine-learning-classifiers-1f395a6c93fa"
      ]
    },
    {
      "cell_type": "code",
      "execution_count": null,
      "metadata": {
        "id": "k8VRd7jxfjsF"
      },
      "outputs": [],
      "source": [
        "from mlxtend.evaluate import paired_ttest_5x2cv\n",
        "\n",
        "X = np.concatenate([x_train, x_test])\n",
        "y = np.concatenate([y_train, y_test])\n",
        "\n",
        "t, p = paired_ttest_5x2cv(estimator1=model_rf,estimator2=xgb_classifier,X=X, y=y)\n",
        "alpha = 0.05\n",
        "\n",
        "print('t statistic: %.3f' % t)\n",
        "print('alpha ', alpha)\n",
        "print('p value: %.3f' % p)\n",
        "\n",
        "if p > alpha:\n",
        "  print(\"Fail to reject null hypotesis\")\n",
        "else:\n",
        "  print(\"Reject null hypotesis\")"
      ]
    },
    {
      "cell_type": "markdown",
      "metadata": {
        "id": "2BN4MWX4hLvh"
      },
      "source": [
        "Fashion MNIST"
      ]
    },
    {
      "cell_type": "code",
      "execution_count": null,
      "metadata": {
        "id": "Wy2G1WK9WGi5",
        "colab": {
          "base_uri": "https://localhost:8080/"
        },
        "outputId": "b6888b6d-c997-47fd-e338-ed76f72de991"
      },
      "outputs": [
        {
          "output_type": "stream",
          "name": "stdout",
          "text": [
            "Downloading data from https://storage.googleapis.com/tensorflow/tf-keras-datasets/train-labels-idx1-ubyte.gz\n",
            "29515/29515 [==============================] - 0s 0us/step\n",
            "Downloading data from https://storage.googleapis.com/tensorflow/tf-keras-datasets/train-images-idx3-ubyte.gz\n",
            "26421880/26421880 [==============================] - 1s 0us/step\n",
            "Downloading data from https://storage.googleapis.com/tensorflow/tf-keras-datasets/t10k-labels-idx1-ubyte.gz\n",
            "5148/5148 [==============================] - 0s 0us/step\n",
            "Downloading data from https://storage.googleapis.com/tensorflow/tf-keras-datasets/t10k-images-idx3-ubyte.gz\n",
            "4422102/4422102 [==============================] - 1s 0us/step\n"
          ]
        }
      ],
      "source": [
        "(x_train, y_train), (x_test, y_test) = fashion_mnist.load_data()\n",
        "\n",
        "x_train = x_train.reshape((-1), 784).astype('float32') / 255.0\n",
        "y_train = y_train.reshape((-1)).astype('float32')\n",
        "\n",
        "x_test = x_test.reshape((-1), 784).astype('float32') / 255.0\n",
        "y_test = y_test.reshape((-1)).astype('float32')\n"
      ]
    },
    {
      "cell_type": "markdown",
      "metadata": {
        "id": "jlIYEcNUhNpB"
      },
      "source": [
        "MNIST Original"
      ]
    },
    {
      "cell_type": "code",
      "execution_count": null,
      "metadata": {
        "id": "THPhc9TPhAdR"
      },
      "outputs": [],
      "source": [
        "(x_train, y_train), (x_test, y_test) = mnist.load_data()\n",
        "\n",
        "x_train = x_train.reshape((-1), 784).astype('float32') / 255.0\n",
        "y_train = y_train.reshape((-1)).astype('float32')\n",
        "\n",
        "x_test = x_test.reshape((-1), 784).astype('float32') / 255.0\n",
        "y_test = y_test.reshape((-1)).astype('float32')"
      ]
    },
    {
      "cell_type": "markdown",
      "metadata": {
        "id": "9aCGxnqEXM5v"
      },
      "source": [
        "Fitting Classifiers"
      ]
    },
    {
      "cell_type": "code",
      "execution_count": null,
      "metadata": {
        "id": "yShQjRq-WMxr"
      },
      "outputs": [],
      "source": [
        "\n",
        "#====================== KNN =====================\n",
        "k=5\n",
        "model_knn = KNeighborsClassifier(n_neighbors = k)\n",
        "\n",
        "model_knn.fit(x_train,y_train)\n",
        "\n",
        "#print(cross_val_score(model_knn, x_test, y_test, cv = 10))\n",
        "pred_knn = model_knn.predict(x_test)\n",
        "#print('Accuracy of KNN: ', accuracy_score(pred_knn, y_test)*100)\n",
        "\n",
        "# ======================= SVM ==============\n",
        "\n",
        "model_svm = SVC(kernel='linear')\n",
        "model_svm.fit(x_train, y_train)\n",
        "\n",
        "#print(cross_val_score(model_svm, x_test, y_test, cv = 10))\n",
        "pred_svm = model_svm.predict(x_test)\n",
        "#print('Accuracy of SVM: ', accuracy_score(pred_svm, y_test)*100)\n",
        "\n",
        "# ==================== Naive Bayes ================\n",
        "\n",
        "model_gnb = GaussianNB()\n",
        "model_gnb.fit(x_train, y_train)\n",
        "\n",
        "#print(cross_val_score(model_gnb, x_test, y_test, cv = 10))\n",
        "pred_gnb = model_gnb.predict(x_test)\n",
        "#print('Accuracy of NB: ', accuracy_score(pred_gnb, y_test)*100)\n",
        "\n",
        "\n",
        "#===================== RandomForest ==========\n",
        "clf = RandomForestClassifier(n_estimators = 9)\n",
        "model_rf = clf.fit(x_train, y_train)\n",
        "\n",
        "#print(cross_val_score(model_rf, x_test, y_test, cv = 10))\n",
        "pred_rf = model_rf.predict(x_test)\n",
        "#print('Accuracy of RF: ', accuracy_score(pred_rf, y_test)*100)\n",
        "\n",
        "\n",
        "#================== XGBoost ===========================\n",
        "\n",
        "# Train a model using the scikit-learn API\n",
        "xgb_classifier = xgb.XGBClassifier(n_estimators=100, objective='binary:logistic', tree_method='hist', eta=0.1, max_depth=3)\n",
        "xgb_classifier.fit(x_train, y_train)\n",
        "\n",
        "#print(cross_val_score(xgb_classifier, x_test, y_test, cv = 10))\n",
        "pred_xgb = xgb_classifier.predict(x_test)\n",
        "#print('Accuracy of XGBoost: ', accuracy_score(pred_xgb, y_test)*100)"
      ]
    },
    {
      "cell_type": "markdown",
      "metadata": {
        "id": "wKQ2tJSpR-u4"
      },
      "source": [
        "Cross validation"
      ]
    },
    {
      "cell_type": "code",
      "execution_count": null,
      "metadata": {
        "colab": {
          "base_uri": "https://localhost:8080/"
        },
        "id": "xcBwAsZoSBDA",
        "outputId": "5158fb1d-1c8a-4386-9242-2f85ec8d2666"
      },
      "outputs": [
        {
          "output_type": "stream",
          "name": "stdout",
          "text": [
            "      KNN    SVM     NB     RF    XGB\n",
            "0   0.824  0.850  0.582  0.852  0.864\n",
            "1   0.816  0.822  0.572  0.812  0.850\n",
            "2   0.828  0.836  0.560  0.830  0.860\n",
            "3   0.822  0.822  0.578  0.810  0.852\n",
            "4   0.816  0.802  0.562  0.818  0.848\n",
            "5   0.806  0.804  0.606  0.830  0.834\n",
            "6   0.782  0.824  0.552  0.808  0.836\n",
            "7   0.792  0.826  0.526  0.806  0.842\n",
            "8   0.844  0.812  0.594  0.808  0.842\n",
            "9   0.798  0.848  0.586  0.828  0.876\n",
            "10  0.802  0.804  0.546  0.796  0.850\n",
            "11  0.830  0.816  0.554  0.820  0.832\n",
            "12  0.808  0.820  0.528  0.834  0.854\n",
            "13  0.800  0.818  0.574  0.816  0.854\n",
            "14  0.840  0.822  0.586  0.838  0.868\n",
            "15  0.812  0.818  0.570  0.804  0.844\n",
            "16  0.808  0.826  0.582  0.826  0.834\n",
            "17  0.812  0.802  0.576  0.824  0.836\n",
            "18  0.810  0.822  0.564  0.814  0.842\n",
            "19  0.822  0.798  0.588  0.812  0.848\n"
          ]
        }
      ],
      "source": [
        "import pandas as pd\n",
        "results = pd.DataFrame()\n",
        "results['KNN'] = cross_val_score(model_knn, x_test, y_test, cv = 20)\n",
        "results['SVM'] = cross_val_score(model_svm, x_test, y_test, cv = 20)\n",
        "results['NB'] = cross_val_score(model_gnb, x_test, y_test, cv = 20)\n",
        "results['RF'] = cross_val_score(model_rf, x_test, y_test, cv = 20)\n",
        "results['XGB'] = cross_val_score(xgb_classifier, x_test, y_test, cv = 20)\n",
        "print(results)"
      ]
    },
    {
      "cell_type": "markdown",
      "source": [
        "Chi-square"
      ],
      "metadata": {
        "id": "_0KArLm6nTkM"
      }
    },
    {
      "cell_type": "code",
      "execution_count": null,
      "metadata": {
        "colab": {
          "base_uri": "https://localhost:8080/"
        },
        "id": "edHSA_LHPrgn",
        "outputId": "8738e10c-2b54-4aff-b945-7722f32860f5"
      },
      "outputs": [
        {
          "output_type": "stream",
          "name": "stdout",
          "text": [
            "62.99000000000001\n",
            "calculated F_f :  70.35920047031163\n",
            "found F in table: F( 4 , 76 ): 2.486\n"
          ]
        }
      ],
      "source": [
        "#1 3.1 5 3.8 2.1\n",
        "N = 20\n",
        "k_2 = 5\n",
        "\n",
        "#avg_knn = 1.1\n",
        "#avg_svm = 2.55\n",
        "#avg_nb = 5\n",
        "#avg_rf = 3.9\n",
        "#avg_xgb = 2.45\n",
        "\n",
        "avg_knn = 3.175\n",
        "avg_svm = 2.8\n",
        "avg_nb = 5\n",
        "avg_rf = 2.975\n",
        "avg_xgb = 1.05\n",
        "\n",
        "chisquare = 12*N/(k_2*(k_2+1))*(((avg_knn*avg_knn) + (avg_svm*avg_svm) + (avg_nb*avg_nb) + (avg_rf*avg_rf) + (avg_xgb*avg_xgb))-(k_2*(k_2+1)**2)/4)\n",
        "print(chisquare)\n",
        "\n",
        "F_f = (N-1)*chisquare/(N*(k_2-1)-chisquare)\n",
        "print(\"calculated F_f : \",F_f)\n",
        "\n",
        "#print(\"k-1: \", k_2-1)\n",
        "#print(\"(k-1)(N-1): \", (k_2-1)*(N-1))\n",
        "\n",
        "#reference https://www.stat.purdue.edu/~lfindsen/stat503/F_alpha_05.pdf\n",
        "print(\"found F in table: F(\",k_2-1,\",\", (k_2-1)*(N-1), \"): 2.486\") #N = 10 -> 2.634"
      ]
    },
    {
      "cell_type": "markdown",
      "source": [
        "Comparing Critical Difference (CD) and Averages of classifiers"
      ],
      "metadata": {
        "id": "_-RlgaLHnWTz"
      }
    },
    {
      "cell_type": "code",
      "execution_count": null,
      "metadata": {
        "colab": {
          "base_uri": "https://localhost:8080/"
        },
        "id": "KPkgIbO_Ybql",
        "outputId": "d5d101b9-8605-4f7f-8ddd-b1c1532732d2"
      },
      "outputs": [
        {
          "output_type": "stream",
          "name": "stdout",
          "text": [
            "1.364\n",
            "KNN - SVM 0.375  /  1.364\n",
            "KNN - NB -1.8250000000000002  /  1.364\n",
            "KNN - RF 0.19999999999999973  /  1.364\n",
            "KNN - XGB 2.125  /  1.364\n",
            "\n",
            "\n",
            "SVM - KNN -0.375  /  1.364\n",
            "SVM - NB -2.2  /  1.364\n",
            "SVM - RF -0.17500000000000027  /  1.364\n",
            "SVM - XGB 1.7499999999999998  /  1.364\n",
            "\n",
            "\n",
            "NB - KNN 1.8250000000000002  /  1.364\n",
            "NB - SVM 2.2  /  1.364\n",
            "NB - RF 2.025  /  1.364\n",
            "NB - XGB 3.95  /  1.364\n",
            "\n",
            "\n",
            "RF - KNN -0.19999999999999973  /  1.364\n",
            "RF - SVM 0.17500000000000027  /  1.364\n",
            "RF - NB -2.025  /  1.364\n",
            "RF - XGB 1.925  /  1.364\n",
            "\n",
            "\n",
            "XGB - KNN -2.125  /  1.364\n",
            "XGB - SVM -1.7499999999999998  /  1.364\n",
            "XGB - NB -3.95  /  1.364\n",
            "XGB - RF -1.925  /  1.364\n"
          ]
        }
      ],
      "source": [
        "import math\n",
        "\n",
        "#reference https://folivetti.github.io/courses/IA/PDF/09_Testes_Estatisticos.pdf\n",
        "q_alpha = 2.728\n",
        "CD = q_alpha*math.sqrt(k_2*(k_2+1)/(6*N))\n",
        "print(CD)\n",
        "\n",
        "print(\"KNN - SVM\", avg_knn - avg_svm, \" / \", CD)\n",
        "print(\"KNN - NB\", avg_knn - avg_nb, \" / \", CD)\n",
        "print(\"KNN - RF\" ,avg_knn - avg_rf, \" / \", CD)\n",
        "print(\"KNN - XGB\", avg_knn - avg_xgb, \" / \", CD)\n",
        "\n",
        "print(\"\\n\")\n",
        "\n",
        "print(\"SVM - KNN\", avg_svm - avg_knn, \" / \", CD)\n",
        "print(\"SVM - NB\", avg_svm - avg_nb, \" / \", CD)\n",
        "print(\"SVM - RF\" ,avg_svm - avg_rf, \" / \", CD)\n",
        "print(\"SVM - XGB\", avg_svm - avg_xgb, \" / \", CD)\n",
        "\n",
        "print(\"\\n\")\n",
        "\n",
        "print(\"NB - KNN\", avg_nb - avg_knn, \" / \", CD)\n",
        "print(\"NB - SVM\", avg_nb - avg_svm, \" / \", CD)\n",
        "print(\"NB - RF\" , avg_nb - avg_rf, \" / \", CD)\n",
        "print(\"NB - XGB\", avg_nb - avg_xgb, \" / \", CD)\n",
        "\n",
        "print(\"\\n\")\n",
        "\n",
        "print(\"RF - KNN\", avg_rf - avg_knn, \" / \", CD)\n",
        "print(\"RF - SVM\", avg_rf - avg_svm, \" / \", CD)\n",
        "print(\"RF - NB\" , avg_rf - avg_nb, \" / \", CD)\n",
        "print(\"RF - XGB\", avg_rf - avg_xgb, \" / \", CD)\n",
        "\n",
        "print(\"\\n\")\n",
        "\n",
        "print(\"XGB - KNN\", avg_xgb - avg_knn, \" / \", CD)\n",
        "print(\"XGB - SVM\", avg_xgb - avg_svm, \" / \", CD)\n",
        "print(\"XGB - NB\" , avg_xgb - avg_nb, \" / \", CD)\n",
        "print(\"XGB - RF\",  avg_xgb - avg_rf, \" / \", CD)\n"
      ]
    },
    {
      "cell_type": "code",
      "execution_count": null,
      "metadata": {
        "colab": {
          "base_uri": "https://localhost:8080/"
        },
        "id": "SbRhK6FMSrU1",
        "outputId": "b6c32eed-87fe-4976-81d3-4bbc1100a676"
      },
      "outputs": [
        {
          "output_type": "stream",
          "name": "stdout",
          "text": [
            "KNN: 0.8135999999999999\n",
            "SVM: 0.8195999999999998\n",
            "NB: 0.5693\n",
            "RF: 0.8192999999999999\n",
            "XGB: 0.8482999999999998\n"
          ]
        }
      ],
      "source": [
        "print(\"KNN:\",  results[\"KNN\"].mean())\n",
        "print(\"SVM:\",  results[\"SVM\"].mean())\n",
        "print(\"NB:\",  results[\"NB\"].mean())\n",
        "print(\"RF:\",  results[\"RF\"].mean())\n",
        "print(\"XGB:\",  results[\"XGB\"].mean())"
      ]
    },
    {
      "cell_type": "markdown",
      "source": [
        "Friedman test"
      ],
      "metadata": {
        "id": "72UrbNOEndmH"
      }
    },
    {
      "cell_type": "code",
      "execution_count": null,
      "metadata": {
        "colab": {
          "base_uri": "https://localhost:8080/"
        },
        "id": "AwsGKDu8YFOq",
        "outputId": "723aebf4-217e-4827-f1cd-25f83f15f1c8"
      },
      "outputs": [
        {
          "output_type": "stream",
          "name": "stdout",
          "text": [
            "FriedmanchisquareResult(statistic=63.306532663316595, pvalue=5.849082251017583e-13)\n"
          ]
        }
      ],
      "source": [
        "from scipy.stats import friedmanchisquare\n",
        "res = friedmanchisquare(results[\"KNN\"], results[\"SVM\"], results[\"NB\"], results[\"RF\"], results[\"XGB\"])\n",
        "print(res)"
      ]
    },
    {
      "cell_type": "markdown",
      "source": [
        "Nemenyi test"
      ],
      "metadata": {
        "id": "Bf73JEGVn9UA"
      }
    },
    {
      "cell_type": "code",
      "execution_count": null,
      "metadata": {
        "colab": {
          "base_uri": "https://localhost:8080/"
        },
        "id": "_Z91KPFfZ3Hp",
        "outputId": "f4c454ca-e154-4655-f903-79c22a29efa6"
      },
      "outputs": [
        {
          "output_type": "stream",
          "name": "stdout",
          "text": [
            "Requirement already satisfied: scikit-posthocs in /usr/local/lib/python3.10/dist-packages (0.8.0)\n",
            "Requirement already satisfied: numpy in /usr/local/lib/python3.10/dist-packages (from scikit-posthocs) (1.23.5)\n",
            "Requirement already satisfied: scipy in /usr/local/lib/python3.10/dist-packages (from scikit-posthocs) (1.11.3)\n",
            "Requirement already satisfied: statsmodels in /usr/local/lib/python3.10/dist-packages (from scikit-posthocs) (0.14.0)\n",
            "Requirement already satisfied: pandas>=0.20.0 in /usr/local/lib/python3.10/dist-packages (from scikit-posthocs) (1.5.3)\n",
            "Requirement already satisfied: seaborn in /usr/local/lib/python3.10/dist-packages (from scikit-posthocs) (0.12.2)\n",
            "Requirement already satisfied: matplotlib in /usr/local/lib/python3.10/dist-packages (from scikit-posthocs) (3.7.1)\n",
            "Requirement already satisfied: python-dateutil>=2.8.1 in /usr/local/lib/python3.10/dist-packages (from pandas>=0.20.0->scikit-posthocs) (2.8.2)\n",
            "Requirement already satisfied: pytz>=2020.1 in /usr/local/lib/python3.10/dist-packages (from pandas>=0.20.0->scikit-posthocs) (2023.3.post1)\n",
            "Requirement already satisfied: contourpy>=1.0.1 in /usr/local/lib/python3.10/dist-packages (from matplotlib->scikit-posthocs) (1.2.0)\n",
            "Requirement already satisfied: cycler>=0.10 in /usr/local/lib/python3.10/dist-packages (from matplotlib->scikit-posthocs) (0.12.1)\n",
            "Requirement already satisfied: fonttools>=4.22.0 in /usr/local/lib/python3.10/dist-packages (from matplotlib->scikit-posthocs) (4.44.3)\n",
            "Requirement already satisfied: kiwisolver>=1.0.1 in /usr/local/lib/python3.10/dist-packages (from matplotlib->scikit-posthocs) (1.4.5)\n",
            "Requirement already satisfied: packaging>=20.0 in /usr/local/lib/python3.10/dist-packages (from matplotlib->scikit-posthocs) (23.2)\n",
            "Requirement already satisfied: pillow>=6.2.0 in /usr/local/lib/python3.10/dist-packages (from matplotlib->scikit-posthocs) (9.4.0)\n",
            "Requirement already satisfied: pyparsing>=2.3.1 in /usr/local/lib/python3.10/dist-packages (from matplotlib->scikit-posthocs) (3.1.1)\n",
            "Requirement already satisfied: patsy>=0.5.2 in /usr/local/lib/python3.10/dist-packages (from statsmodels->scikit-posthocs) (0.5.3)\n",
            "Requirement already satisfied: six in /usr/local/lib/python3.10/dist-packages (from patsy>=0.5.2->statsmodels->scikit-posthocs) (1.16.0)\n",
            "          0         1         2         3         4\n",
            "0  1.000000  0.900000  0.002434  0.900000  0.001000\n",
            "1  0.900000  1.000000  0.001000  0.900000  0.004248\n",
            "2  0.002434  0.001000  1.000000  0.001000  0.001000\n",
            "3  0.900000  0.900000  0.001000  1.000000  0.001116\n",
            "4  0.001000  0.004248  0.001000  0.001116  1.000000\n"
          ]
        }
      ],
      "source": [
        "!pip3 install scikit-posthocs\n",
        "\n",
        "import scikit_posthocs as sp\n",
        "\n",
        "# Combine three groups into one array\n",
        "data = np.array([results[\"KNN\"], results[\"SVM\"], results[\"NB\"], results[\"RF\"], results[\"XGB\"]])\n",
        "\n",
        "# Conduct the Nemenyi post-hoc test\n",
        "test_results = sp.posthoc_nemenyi_friedman(data.T)\n",
        "print(test_results)"
      ]
    },
    {
      "cell_type": "markdown",
      "source": [
        "Critical difference diagram"
      ],
      "metadata": {
        "id": "hxMMiWe5nmBO"
      }
    },
    {
      "cell_type": "code",
      "execution_count": null,
      "metadata": {
        "colab": {
          "base_uri": "https://localhost:8080/",
          "height": 508
        },
        "id": "2CWAT-qEbyZL",
        "outputId": "466a324c-a595-4ac2-863a-3e8597b2be53"
      },
      "outputs": [
        {
          "output_type": "execute_result",
          "data": {
            "text/plain": [
              "{'markers': [<matplotlib.collections.PathCollection at 0x7bbf54033e50>,\n",
              "  <matplotlib.collections.PathCollection at 0x7bbf5405c790>,\n",
              "  <matplotlib.collections.PathCollection at 0x7bbf5405d090>,\n",
              "  <matplotlib.collections.PathCollection at 0x7bbf5405d930>,\n",
              "  <matplotlib.collections.PathCollection at 0x7bbf5405e230>],\n",
              " 'elbows': [<matplotlib.lines.Line2D at 0x7bbf54030fd0>,\n",
              "  <matplotlib.lines.Line2D at 0x7bbf5405c4f0>,\n",
              "  <matplotlib.lines.Line2D at 0x7bbf5405cdf0>,\n",
              "  <matplotlib.lines.Line2D at 0x7bbf5405d690>,\n",
              "  <matplotlib.lines.Line2D at 0x7bbf5405df90>],\n",
              " 'labels': [Text(0.5593, -2, '2 (0.57)'),\n",
              "  Text(0.5593, -3, '0 (0.81)'),\n",
              "  Text(0.5593, -4, '3 (0.82)'),\n",
              "  Text(0.8582999999999998, -2, '(0.85) 4'),\n",
              "  Text(0.8582999999999998, -3, '(0.82) 1')],\n",
              " 'crossbars': [[<matplotlib.lines.Line2D at 0x7bbf54033ac0>]]}"
            ]
          },
          "metadata": {},
          "execution_count": 20
        },
        {
          "output_type": "display_data",
          "data": {
            "text/plain": [
              "<Figure size 1000x200 with 1 Axes>"
            ],
            "image/png": "[encoded data removed]"
          },
          "metadata": {}
        }
      ],
      "source": [
        "plt.figure(figsize=(10, 2), dpi=100)\n",
        "plt.title('Diagrama de diferença crítica')\n",
        "sp.critical_difference_diagram([results[\"KNN\"].mean(), results[\"SVM\"].mean(), results[\"NB\"].mean(), results[\"RF\"].mean(), results[\"XGB\"].mean()], test_results)\n"
      ]
    }
  ],
  "metadata": {
    "colab": {
      "provenance": []
    },
    "kernelspec": {
      "display_name": "Python 3",
      "name": "python3"
    },
    "language_info": {
      "name": "python"
    }
  },
  "nbformat": 4,
  "nbformat_minor": 0
}