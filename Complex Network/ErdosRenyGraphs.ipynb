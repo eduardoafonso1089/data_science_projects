{
 "cells": [
  {
   "cell_type": "code",
   "execution_count": 21,
   "metadata": {},
   "outputs": [
    {
     "name": "stdout",
     "output_type": "stream",
     "text": [
      "Requirement already satisfied: networkit in ./.venv/lib/python3.11/site-packages (11.0)\n",
      "Requirement already satisfied: cmake in ./.venv/lib/python3.11/site-packages (3.30.2)\n",
      "Requirement already satisfied: cython in ./.venv/lib/python3.11/site-packages (3.0.11)\n",
      "Requirement already satisfied: matplotlib in ./.venv/lib/python3.11/site-packages (3.9.1.post1)\n",
      "Requirement already satisfied: networkx in ./.venv/lib/python3.11/site-packages (3.3)\n",
      "Requirement already satisfied: scipy in ./.venv/lib/python3.11/site-packages (from networkit) (1.14.0)\n",
      "Requirement already satisfied: numpy in ./.venv/lib/python3.11/site-packages (from networkit) (2.0.1)\n",
      "Requirement already satisfied: contourpy>=1.0.1 in ./.venv/lib/python3.11/site-packages (from matplotlib) (1.2.1)\n",
      "Requirement already satisfied: cycler>=0.10 in ./.venv/lib/python3.11/site-packages (from matplotlib) (0.12.1)\n",
      "Requirement already satisfied: fonttools>=4.22.0 in ./.venv/lib/python3.11/site-packages (from matplotlib) (4.53.1)\n",
      "Requirement already satisfied: kiwisolver>=1.3.1 in ./.venv/lib/python3.11/site-packages (from matplotlib) (1.4.5)\n",
      "Requirement already satisfied: packaging>=20.0 in ./.venv/lib/python3.11/site-packages (from matplotlib) (24.1)\n",
      "Requirement already satisfied: pillow>=8 in ./.venv/lib/python3.11/site-packages (from matplotlib) (10.4.0)\n",
      "Requirement already satisfied: pyparsing>=2.3.1 in ./.venv/lib/python3.11/site-packages (from matplotlib) (3.1.2)\n",
      "Requirement already satisfied: python-dateutil>=2.7 in ./.venv/lib/python3.11/site-packages (from matplotlib) (2.9.0.post0)\n",
      "Requirement already satisfied: six>=1.5 in ./.venv/lib/python3.11/site-packages (from python-dateutil>=2.7->matplotlib) (1.16.0)\n"
     ]
    }
   ],
   "source": [
    "!pip3 install networkit cmake cython matplotlib networkx"
   ]
  },
  {
   "cell_type": "code",
   "execution_count": 24,
   "metadata": {},
   "outputs": [
    {
     "ename": "ValueError",
     "evalue": "numpy.dtype size changed, may indicate binary incompatibility. Expected 96 from C header, got 88 from PyObject",
     "output_type": "error",
     "traceback": [
      "\u001b[0;31m---------------------------------------------------------------------------\u001b[0m",
      "\u001b[0;31mValueError\u001b[0m                                Traceback (most recent call last)",
      "Cell \u001b[0;32mIn[24], line 2\u001b[0m\n\u001b[1;32m      1\u001b[0m \u001b[38;5;66;03m#from networkit import *\u001b[39;00m\n\u001b[0;32m----> 2\u001b[0m \u001b[38;5;28;01mimport\u001b[39;00m \u001b[38;5;21;01mnetworkit\u001b[39;00m \u001b[38;5;28;01mas\u001b[39;00m \u001b[38;5;21;01mnk\u001b[39;00m\n\u001b[1;32m      3\u001b[0m \u001b[38;5;28;01mimport\u001b[39;00m \u001b[38;5;21;01mmatplotlib\u001b[39;00m\u001b[38;5;21;01m.\u001b[39;00m\u001b[38;5;21;01mpyplot\u001b[39;00m \u001b[38;5;28;01mas\u001b[39;00m \u001b[38;5;21;01mplt\u001b[39;00m\n\u001b[1;32m      6\u001b[0m \u001b[38;5;66;03m# Initalize algorithm\u001b[39;00m\n",
      "File \u001b[0;32m~/Documents/github_repo/python_projects/Complex Network/.venv/lib/python3.11/site-packages/networkit/__init__.py:57\u001b[0m\n\u001b[1;32m     54\u001b[0m \thave_nx \u001b[38;5;241m=\u001b[39m \u001b[38;5;28;01mTrue\u001b[39;00m\n\u001b[1;32m     56\u001b[0m \u001b[38;5;66;03m# local imports\u001b[39;00m\n\u001b[0;32m---> 57\u001b[0m \u001b[38;5;28;01mfrom\u001b[39;00m \u001b[38;5;21;01m.\u001b[39;00m \u001b[38;5;28;01mimport\u001b[39;00m graph\n\u001b[1;32m     58\u001b[0m \u001b[38;5;28;01mfrom\u001b[39;00m \u001b[38;5;21;01m.\u001b[39;00m \u001b[38;5;28;01mimport\u001b[39;00m graphio\n\u001b[1;32m     59\u001b[0m \u001b[38;5;28;01mfrom\u001b[39;00m \u001b[38;5;21;01m.\u001b[39;00m \u001b[38;5;28;01mimport\u001b[39;00m community\n",
      "File \u001b[0;32m~/Documents/github_repo/python_projects/Complex Network/.venv/lib/python3.11/site-packages/networkit/graph.pyx:1\u001b[0m, in \u001b[0;36minit networkit.graph\u001b[0;34m()\u001b[0m\n",
      "\u001b[0;31mValueError\u001b[0m: numpy.dtype size changed, may indicate binary incompatibility. Expected 96 from C header, got 88 from PyObject"
     ]
    }
   ],
   "source": [
    "#from networkit import *\n",
    "import networkit as nk\n",
    "import matplotlib.pyplot as plt\n",
    "\n",
    "\n",
    "# Initalize algorithm\n",
    "erg = nk.generators.ErdosRenyiGenerator(1000, 0.05)\n",
    "\n",
    "# Run algorithm\n",
    "ergG = erg.generate()\n",
    "\n",
    "# Verify\n",
    "print(ergG.numberOfNodes(), ergG.numberOfEdges())\n",
    "\n",
    "# Initalize algorithm\n",
    "rmat = nk.generators.RmatGenerator(6, 3, 0.1, 0.2, 0.5, 0.2)\n",
    "\n",
    "# Run algorithm\n",
    "rmatG = rmat.generate()\n",
    "\n",
    "# Verify\n",
    "print(rmatG.numberOfNodes(), rmatG.numberOfEdges())\n",
    "\n",
    "\n",
    "G = ergG #readGraph(\"skitter.graph\", Format.METIS)\n",
    "#G = rmatG\n",
    "\n",
    "cc = components.ConnectedComponents(G)\n",
    "cc.run()\n",
    "compSizes = cc.getComponentSizes()\n",
    "numCC = len(compSizes)\n",
    "maxCC = max(compSizes.values())\n",
    "print(\"#cc = %d,largest = %d\"%(numCC,maxCC))\n",
    "\n",
    "communities = community.detectCommunities(G) \n",
    "\n",
    "sizes = communities.subsetSizes()\n",
    "\n",
    "sizes.sort(reverse=True)\n",
    "plt.xscale(\"log\")\n",
    "plt.xlabel(\"community id\")\n",
    "plt.yscale(\"log\")\n",
    "plt.ylabel(\"size\")\n",
    "plt.plot(sizes)\n",
    "plt.show()"
   ]
  }
 ],
 "metadata": {
  "kernelspec": {
   "display_name": "Python 3",
   "language": "python",
   "name": "python3"
  },
  "language_info": {
   "codemirror_mode": {
    "name": "ipython",
    "version": 3
   },
   "file_extension": ".py",
   "mimetype": "text/x-python",
   "name": "python",
   "nbconvert_exporter": "python",
   "pygments_lexer": "ipython3",
   "version": "3.11.2"
  }
 },
 "nbformat": 4,
 "nbformat_minor": 2
}
